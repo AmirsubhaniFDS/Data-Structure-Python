{
 "cells": [
  {
   "cell_type": "code",
   "execution_count": 1,
   "id": "f03ae7d9",
   "metadata": {},
   "outputs": [],
   "source": [
    "a = 10"
   ]
  },
  {
   "cell_type": "code",
   "execution_count": 4,
   "id": "9c7ed2dc",
   "metadata": {},
   "outputs": [
    {
     "name": "stdout",
     "output_type": "stream",
     "text": [
      "my name is Amir\n"
     ]
    }
   ],
   "source": [
    "if a < 15:\n",
    "    print(\"my name is Amir\")"
   ]
  },
  {
   "cell_type": "code",
   "execution_count": 3,
   "id": "64ab6189",
   "metadata": {},
   "outputs": [
    {
     "data": {
      "text/plain": [
       "True"
      ]
     },
     "execution_count": 3,
     "metadata": {},
     "output_type": "execute_result"
    }
   ],
   "source": [
    "a < 15"
   ]
  },
  {
   "cell_type": "code",
   "execution_count": 5,
   "id": "e167bab9",
   "metadata": {},
   "outputs": [],
   "source": [
    "if 24 < 15:\n",
    "    print(\"my name is Amir\")"
   ]
  },
  {
   "cell_type": "code",
   "execution_count": 6,
   "id": "4a07bdae",
   "metadata": {},
   "outputs": [
    {
     "data": {
      "text/plain": [
       "False"
      ]
     },
     "execution_count": 6,
     "metadata": {},
     "output_type": "execute_result"
    }
   ],
   "source": [
    "24<15"
   ]
  },
  {
   "cell_type": "code",
   "execution_count": 9,
   "id": "18b9a8c6",
   "metadata": {},
   "outputs": [
    {
     "name": "stdout",
     "output_type": "stream",
     "text": [
      "if statement is wrong\n"
     ]
    }
   ],
   "source": [
    "if 10 < 3 :\n",
    "    print(\"10 is lesser than 3\")\n",
    "else :\n",
    "    print(\"if statement is wrong\")"
   ]
  },
  {
   "cell_type": "code",
   "execution_count": 10,
   "id": "c1267d3b",
   "metadata": {},
   "outputs": [
    {
     "name": "stdout",
     "output_type": "stream",
     "text": [
      "10 is lesser than 3\n"
     ]
    }
   ],
   "source": [
    "if 3 < 10 :\n",
    "    print(\"10 is lesser than 3\")\n",
    "else :\n",
    "    print(\"if statement is wrong\")"
   ]
  },
  {
   "cell_type": "code",
   "execution_count": 14,
   "id": "7a68b682",
   "metadata": {},
   "outputs": [
    {
     "name": "stdout",
     "output_type": "stream",
     "text": [
      "10\n",
      "i will be able to buy phone\n"
     ]
    }
   ],
   "source": [
    "income = int(input())\n",
    "if income < 50:\n",
    "    print('i will be able to buy phone')\n",
    "elif income < 70:\n",
    "    print('i will be able to buy a car')\n",
    "elif income < 90:\n",
    "    print(' i will be able to rent a home')\n",
    "else:\n",
    "    print('i will not be able to buy anything')"
   ]
  },
  {
   "cell_type": "code",
   "execution_count": 18,
   "id": "29c9f744",
   "metadata": {},
   "outputs": [
    {
     "name": "stdout",
     "output_type": "stream",
     "text": [
      "4565\n",
      "Discount will be 228.25\n"
     ]
    }
   ],
   "source": [
    "Total_price = int(input())\n",
    "if Total_price > 20000:\n",
    "    discount = Total_price *.20\n",
    "    print(\"Discount will be\", discount)\n",
    "elif Total_price <=7000:\n",
    "    discount = Total_price * .05\n",
    "    print(\"Discount will be\", discount)\n",
    "else :\n",
    "    print('wont be able to give discount')"
   ]
  },
  {
   "cell_type": "code",
   "execution_count": 20,
   "id": "bf678374",
   "metadata": {},
   "outputs": [
    {
     "name": "stdout",
     "output_type": "stream",
     "text": [
      "Enter coup codeAMIR5\n",
      "you will be able to get a discount of 5%\n",
      "You will be able to pay after discount 6726.0\n"
     ]
    }
   ],
   "source": [
    "coup = input(\"Enter coup code\")\n",
    "if coup == \"AMIR5\":\n",
    "    print(\"you will be able to get a discount of 5%\")\n",
    "    paid_amount = 7080 - 7080*.05\n",
    "    print(\"You will be able to pay after discount\", paid_amount)\n",
    "else :\n",
    "    print(\"Kindly use a valid code\")"
   ]
  },
  {
   "cell_type": "code",
   "execution_count": 21,
   "id": "c974aecf",
   "metadata": {},
   "outputs": [
    {
     "name": "stdout",
     "output_type": "stream",
     "text": [
      "2\n",
      "may take 6 month\n"
     ]
    }
   ],
   "source": [
    "study_hr=int(input())\n",
    "if study_hr < 1:\n",
    "    print(\"It may take 8-9 month to finish this course to make a transition\")\n",
    "elif study_hr <4 and study_hr>1:\n",
    "    print(\"may take 6 month\")\n",
    "elif study_hr >10:\n",
    "    print(\"within 10 month you may make transition\")\n",
    "else:\n",
    "    print(\"It will be difficult\")"
   ]
  },
  {
   "cell_type": "code",
   "execution_count": 24,
   "id": "5a7d1917",
   "metadata": {},
   "outputs": [
    {
     "name": "stdout",
     "output_type": "stream",
     "text": [
      "4\n"
     ]
    },
    {
     "ename": "TypeError",
     "evalue": "unsupported operand type(s) for &: 'int' and 'float'",
     "output_type": "error",
     "traceback": [
      "\u001b[0;31m---------------------------------------------------------------------------\u001b[0m",
      "\u001b[0;31mTypeError\u001b[0m                                 Traceback (most recent call last)",
      "\u001b[0;32m/var/folders/df/flymxr5s059ctrpmw61n9zv40000gn/T/ipykernel_1449/3968268573.py\u001b[0m in \u001b[0;36m<module>\u001b[0;34m\u001b[0m\n\u001b[1;32m      2\u001b[0m \u001b[0;32mif\u001b[0m \u001b[0mstudy_hr\u001b[0m \u001b[0;34m<\u001b[0m \u001b[0;36m1\u001b[0m\u001b[0;34m:\u001b[0m\u001b[0;34m\u001b[0m\u001b[0;34m\u001b[0m\u001b[0m\n\u001b[1;32m      3\u001b[0m     \u001b[0mprint\u001b[0m\u001b[0;34m(\u001b[0m\u001b[0;34m\"It may take 8-9 month to finish this course to make a transition\"\u001b[0m\u001b[0;34m)\u001b[0m\u001b[0;34m\u001b[0m\u001b[0;34m\u001b[0m\u001b[0m\n\u001b[0;32m----> 4\u001b[0;31m \u001b[0;32melif\u001b[0m \u001b[0mstudy_hr\u001b[0m \u001b[0;34m<\u001b[0m\u001b[0;36m4\u001b[0m \u001b[0;34m&\u001b[0m \u001b[0mstudy_hr\u001b[0m\u001b[0;34m>\u001b[0m\u001b[0;36m1\u001b[0m\u001b[0;34m:\u001b[0m\u001b[0;34m\u001b[0m\u001b[0;34m\u001b[0m\u001b[0m\n\u001b[0m\u001b[1;32m      5\u001b[0m     \u001b[0mprint\u001b[0m\u001b[0;34m(\u001b[0m\u001b[0;34m\"may take 6 month\"\u001b[0m\u001b[0;34m)\u001b[0m\u001b[0;34m\u001b[0m\u001b[0;34m\u001b[0m\u001b[0m\n\u001b[1;32m      6\u001b[0m \u001b[0;32melif\u001b[0m \u001b[0mstudy_hr\u001b[0m \u001b[0;34m>\u001b[0m\u001b[0;36m10\u001b[0m\u001b[0;34m:\u001b[0m\u001b[0;34m\u001b[0m\u001b[0;34m\u001b[0m\u001b[0m\n",
      "\u001b[0;31mTypeError\u001b[0m: unsupported operand type(s) for &: 'int' and 'float'"
     ]
    }
   ],
   "source": [
    "study_hr=float(input())\n",
    "if study_hr < 1:\n",
    "    print(\"It may take 8-9 month to finish this course to make a transition\")\n",
    "elif study_hr <4 & study_hr>1:\n",
    "    print(\"may take 6 month\")\n",
    "elif study_hr >10:\n",
    "    print(\"within 10 month you may make transition\")\n",
    "else:\n",
    "    print(\"It will be difficult\")"
   ]
  },
  {
   "cell_type": "code",
   "execution_count": 25,
   "id": "e85202e3",
   "metadata": {},
   "outputs": [],
   "source": [
    "a = 9"
   ]
  },
  {
   "cell_type": "code",
   "execution_count": 27,
   "id": "7e81a16b",
   "metadata": {},
   "outputs": [
    {
     "name": "stdout",
     "output_type": "stream",
     "text": [
      "valid\n"
     ]
    }
   ],
   "source": [
    "if a ==9 :\n",
    "    print(\"valid\")"
   ]
  },
  {
   "cell_type": "code",
   "execution_count": 30,
   "id": "f1046ab2",
   "metadata": {},
   "outputs": [
    {
     "name": "stdout",
     "output_type": "stream",
     "text": [
      "service\n",
      "inuer\n",
      "feedback\n"
     ]
    }
   ],
   "source": [
    "s = input()\n",
    "service = input()\n",
    "if s == \"inueron\":\n",
    "    if course==\"DSA\":\n",
    "        print(\"yes its available under one neuron and in multiple mode for jon prep\")\n",
    "    elif course ==\"Blockchain\":\n",
    "        print(\"no, its not available under one neuron and in multiple mode for jon prep\")\n",
    "    else:\n",
    "        print(\"This course is not available raise ur demand\")\n",
    "elif s ==\"service\":\n",
    "    if service =='courserequest':\n",
    "        print(\"raise ur request for new course\")\n",
    "    elif service == 'module':\n",
    "        print(\"module is here\")\n",
    "    else:\n",
    "        print(\"feedback\")\n",
    "else:\n",
    "    print(\"Thanks\")"
   ]
  },
  {
   "cell_type": "code",
   "execution_count": 31,
   "id": "a99e7fdf",
   "metadata": {},
   "outputs": [
    {
     "name": "stdout",
     "output_type": "stream",
     "text": [
      "1\n",
      "2\n",
      "3\n",
      "4\n",
      "5\n",
      "6\n",
      "7\n"
     ]
    }
   ],
   "source": [
    "l =[1,2,3,4,5,6,7]\n",
    "for i in l:\n",
    "    print(i)"
   ]
  },
  {
   "cell_type": "code",
   "execution_count": 32,
   "id": "57e30f75",
   "metadata": {},
   "outputs": [
    {
     "name": "stdout",
     "output_type": "stream",
     "text": [
      "A\n",
      "m\n",
      "i\n",
      "r\n"
     ]
    }
   ],
   "source": [
    "for i in \"Amir\":\n",
    "    print(i)"
   ]
  },
  {
   "cell_type": "code",
   "execution_count": 33,
   "id": "1dc60ab9",
   "metadata": {},
   "outputs": [
    {
     "name": "stdout",
     "output_type": "stream",
     "text": [
      "1\n",
      "2\n",
      "3\n",
      "4\n",
      "5\n",
      "6\n"
     ]
    }
   ],
   "source": [
    "t =(1,2,3,4,5,6)\n",
    "for i in t :\n",
    "    print(i)"
   ]
  },
  {
   "cell_type": "code",
   "execution_count": 34,
   "id": "7f7513a1",
   "metadata": {},
   "outputs": [],
   "source": [
    "l = [1,4,5.6,True,7+6j,\"Amir\"]"
   ]
  },
  {
   "cell_type": "code",
   "execution_count": 35,
   "id": "96ffb20a",
   "metadata": {},
   "outputs": [
    {
     "name": "stdout",
     "output_type": "stream",
     "text": [
      "<class 'int'>\n",
      "<class 'int'>\n",
      "<class 'float'>\n",
      "<class 'bool'>\n",
      "<class 'complex'>\n",
      "<class 'str'>\n"
     ]
    }
   ],
   "source": [
    "for i in l:\n",
    "    print(type(i))"
   ]
  },
  {
   "cell_type": "code",
   "execution_count": 36,
   "id": "bca5dfce",
   "metadata": {},
   "outputs": [
    {
     "name": "stdout",
     "output_type": "stream",
     "text": [
      "3\n",
      "6\n",
      "7\n",
      "9\n",
      "10\n",
      "11\n"
     ]
    }
   ],
   "source": [
    "l = [1,4,5,7,8,9]\n",
    "for i in l:\n",
    "    print(i+2)"
   ]
  },
  {
   "cell_type": "code",
   "execution_count": 37,
   "id": "fa880a74",
   "metadata": {},
   "outputs": [],
   "source": [
    "l=[2,45,78,12,\"Amir\",6+9j,[8,9,6]]"
   ]
  },
  {
   "cell_type": "code",
   "execution_count": 43,
   "id": "3283a9b2",
   "metadata": {},
   "outputs": [
    {
     "name": "stdout",
     "output_type": "stream",
     "text": [
      "2\n",
      "45\n",
      "78\n",
      "12\n"
     ]
    }
   ],
   "source": [
    "for i in l:\n",
    "    if type(i) == int:\n",
    "        print(i)"
   ]
  },
  {
   "cell_type": "code",
   "execution_count": 45,
   "id": "b5dc077f",
   "metadata": {},
   "outputs": [],
   "source": [
    "l=[2,45,78,12,\"Amir\",6+9j,[8,9,6]]"
   ]
  },
  {
   "cell_type": "code",
   "execution_count": 53,
   "id": "a67d90f5",
   "metadata": {},
   "outputs": [
    {
     "data": {
      "text/plain": [
       "2"
      ]
     },
     "execution_count": 53,
     "metadata": {},
     "output_type": "execute_result"
    }
   ],
   "source": [
    "l[0]"
   ]
  },
  {
   "cell_type": "code",
   "execution_count": 56,
   "id": "3b21754f",
   "metadata": {
    "scrolled": true
   },
   "outputs": [
    {
     "name": "stdout",
     "output_type": "stream",
     "text": [
      "index 0 for an elemnent 2\n",
      "index 1 for an elemnent 45\n",
      "index 2 for an elemnent 78\n",
      "index 3 for an elemnent 12\n",
      "index 4 for an elemnent Amir\n",
      "index 5 for an elemnent (6+9j)\n",
      "index 6 for an elemnent [8, 9, 6]\n"
     ]
    }
   ],
   "source": [
    "for i in range(len(l)):\n",
    "    print(\"index\", i, \"for an elemnent\", l[i])\n"
   ]
  },
  {
   "cell_type": "code",
   "execution_count": 60,
   "id": "ec1941b6",
   "metadata": {},
   "outputs": [
    {
     "name": "stdout",
     "output_type": "stream",
     "text": [
      "(0, 2)\n",
      "(1, 45)\n",
      "(2, 78)\n",
      "(3, 12)\n",
      "(4, 'Amir')\n",
      "(5, (6+9j))\n",
      "(6, [8, 9, 6])\n"
     ]
    }
   ],
   "source": [
    "for i in enumerate(l):\n",
    "    print(i)"
   ]
  },
  {
   "cell_type": "code",
   "execution_count": 64,
   "id": "7f42cbd7",
   "metadata": {},
   "outputs": [
    {
     "name": "stdout",
     "output_type": "stream",
     "text": [
      "['A', 'm', 'i', 'r']\n"
     ]
    }
   ],
   "source": [
    "for i in l:\n",
    "    if type(i)==str:\n",
    "        l1=[]\n",
    "        for j in i:\n",
    "            l1.append(j)\n",
    "        print(l1)"
   ]
  },
  {
   "cell_type": "code",
   "execution_count": 69,
   "id": "bbbaa4fd",
   "metadata": {},
   "outputs": [],
   "source": [
    "l2=[]\n",
    "for i in l:\n",
    "    if type(i)== int:\n",
    "        l2.append(i*i)"
   ]
  },
  {
   "cell_type": "code",
   "execution_count": 70,
   "id": "2789ba16",
   "metadata": {},
   "outputs": [
    {
     "data": {
      "text/plain": [
       "[4, 2025, 6084, 144]"
      ]
     },
     "execution_count": 70,
     "metadata": {},
     "output_type": "execute_result"
    }
   ],
   "source": [
    "l2"
   ]
  },
  {
   "cell_type": "code",
   "execution_count": null,
   "id": "ba5d242d",
   "metadata": {},
   "outputs": [],
   "source": []
  }
 ],
 "metadata": {
  "kernelspec": {
   "display_name": "Python 3 (ipykernel)",
   "language": "python",
   "name": "python3"
  },
  "language_info": {
   "codemirror_mode": {
    "name": "ipython",
    "version": 3
   },
   "file_extension": ".py",
   "mimetype": "text/x-python",
   "name": "python",
   "nbconvert_exporter": "python",
   "pygments_lexer": "ipython3",
   "version": "3.9.7"
  }
 },
 "nbformat": 4,
 "nbformat_minor": 5
}
