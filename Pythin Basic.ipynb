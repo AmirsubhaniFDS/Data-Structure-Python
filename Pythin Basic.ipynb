{
 "cells": [
  {
   "cell_type": "code",
   "execution_count": 2,
   "id": "37bf8d87",
   "metadata": {
    "scrolled": true
   },
   "outputs": [
    {
     "name": "stdout",
     "output_type": "stream",
     "text": [
      "The Zen of Python, by Tim Peters\n",
      "\n",
      "Beautiful is better than ugly.\n",
      "Explicit is better than implicit.\n",
      "Simple is better than complex.\n",
      "Complex is better than complicated.\n",
      "Flat is better than nested.\n",
      "Sparse is better than dense.\n",
      "Readability counts.\n",
      "Special cases aren't special enough to break the rules.\n",
      "Although practicality beats purity.\n",
      "Errors should never pass silently.\n",
      "Unless explicitly silenced.\n",
      "In the face of ambiguity, refuse the temptation to guess.\n",
      "There should be one-- and preferably only one --obvious way to do it.\n",
      "Although that way may not be obvious at first unless you're Dutch.\n",
      "Now is better than never.\n",
      "Although never is often better than *right* now.\n",
      "If the implementation is hard to explain, it's a bad idea.\n",
      "If the implementation is easy to explain, it may be a good idea.\n",
      "Namespaces are one honking great idea -- let's do more of those!\n"
     ]
    }
   ],
   "source": [
    "import this"
   ]
  },
  {
   "cell_type": "code",
   "execution_count": 3,
   "id": "c7314c2b",
   "metadata": {},
   "outputs": [
    {
     "name": "stdout",
     "output_type": "stream",
     "text": [
      "This is my first python program\n"
     ]
    }
   ],
   "source": [
    "print(\"This is my first python program\")"
   ]
  },
  {
   "cell_type": "code",
   "execution_count": 4,
   "id": "2bf73c84",
   "metadata": {},
   "outputs": [
    {
     "data": {
      "text/plain": [
       "3"
      ]
     },
     "execution_count": 4,
     "metadata": {},
     "output_type": "execute_result"
    }
   ],
   "source": [
    "1+2"
   ]
  },
  {
   "cell_type": "code",
   "execution_count": 6,
   "id": "d8cd8dde",
   "metadata": {},
   "outputs": [
    {
     "data": {
      "text/plain": [
       "18"
      ]
     },
     "execution_count": 6,
     "metadata": {},
     "output_type": "execute_result"
    }
   ],
   "source": [
    "3*6"
   ]
  },
  {
   "cell_type": "code",
   "execution_count": 7,
   "id": "4c5e823f",
   "metadata": {},
   "outputs": [],
   "source": [
    "a=10"
   ]
  },
  {
   "cell_type": "code",
   "execution_count": 11,
   "id": "9a1c9211",
   "metadata": {},
   "outputs": [],
   "source": [
    "amir = 78908"
   ]
  },
  {
   "cell_type": "code",
   "execution_count": 12,
   "id": "fe8dd548",
   "metadata": {},
   "outputs": [
    {
     "data": {
      "text/plain": [
       "78908"
      ]
     },
     "execution_count": 12,
     "metadata": {},
     "output_type": "execute_result"
    }
   ],
   "source": [
    "amir"
   ]
  },
  {
   "cell_type": "code",
   "execution_count": 13,
   "id": "7d2271cb",
   "metadata": {},
   "outputs": [
    {
     "data": {
      "text/plain": [
       "int"
      ]
     },
     "execution_count": 13,
     "metadata": {},
     "output_type": "execute_result"
    }
   ],
   "source": [
    "type(amir)"
   ]
  },
  {
   "cell_type": "code",
   "execution_count": 14,
   "id": "5c9c5b03",
   "metadata": {},
   "outputs": [],
   "source": [
    "b = 0.987"
   ]
  },
  {
   "cell_type": "code",
   "execution_count": 15,
   "id": "7785a0f1",
   "metadata": {},
   "outputs": [
    {
     "data": {
      "text/plain": [
       "float"
      ]
     },
     "execution_count": 15,
     "metadata": {},
     "output_type": "execute_result"
    }
   ],
   "source": [
    "type(b)"
   ]
  },
  {
   "cell_type": "code",
   "execution_count": 16,
   "id": "49e282e1",
   "metadata": {},
   "outputs": [],
   "source": [
    "d = 5 +8j"
   ]
  },
  {
   "cell_type": "code",
   "execution_count": 17,
   "id": "f92ab686",
   "metadata": {},
   "outputs": [
    {
     "data": {
      "text/plain": [
       "complex"
      ]
     },
     "execution_count": 17,
     "metadata": {},
     "output_type": "execute_result"
    }
   ],
   "source": [
    "type(d)"
   ]
  },
  {
   "cell_type": "code",
   "execution_count": 18,
   "id": "62198bad",
   "metadata": {},
   "outputs": [
    {
     "data": {
      "text/plain": [
       "5.0"
      ]
     },
     "execution_count": 18,
     "metadata": {},
     "output_type": "execute_result"
    }
   ],
   "source": [
    "d.real"
   ]
  },
  {
   "cell_type": "code",
   "execution_count": 19,
   "id": "78e00bbd",
   "metadata": {},
   "outputs": [
    {
     "data": {
      "text/plain": [
       "0.0"
      ]
     },
     "execution_count": 19,
     "metadata": {},
     "output_type": "execute_result"
    }
   ],
   "source": [
    "b.imag"
   ]
  },
  {
   "cell_type": "code",
   "execution_count": 20,
   "id": "f8048725",
   "metadata": {},
   "outputs": [
    {
     "data": {
      "text/plain": [
       "8.0"
      ]
     },
     "execution_count": 20,
     "metadata": {},
     "output_type": "execute_result"
    }
   ],
   "source": [
    "d.imag"
   ]
  },
  {
   "cell_type": "code",
   "execution_count": 21,
   "id": "f2bef18f",
   "metadata": {},
   "outputs": [],
   "source": [
    "a =\"Amir\""
   ]
  },
  {
   "cell_type": "code",
   "execution_count": 22,
   "id": "95872ff6",
   "metadata": {},
   "outputs": [
    {
     "data": {
      "text/plain": [
       "<function str.isalpha()>"
      ]
     },
     "execution_count": 22,
     "metadata": {},
     "output_type": "execute_result"
    }
   ],
   "source": [
    "a.isalpha"
   ]
  },
  {
   "cell_type": "code",
   "execution_count": 23,
   "id": "0536b09b",
   "metadata": {},
   "outputs": [
    {
     "ename": "TypeError",
     "evalue": "can only concatenate str (not \"int\") to str",
     "output_type": "error",
     "traceback": [
      "\u001b[0;31m---------------------------------------------------------------------------\u001b[0m",
      "\u001b[0;31mTypeError\u001b[0m                                 Traceback (most recent call last)",
      "\u001b[0;32m/var/folders/df/flymxr5s059ctrpmw61n9zv40000gn/T/ipykernel_673/2703434432.py\u001b[0m in \u001b[0;36m<module>\u001b[0;34m\u001b[0m\n\u001b[0;32m----> 1\u001b[0;31m \u001b[0ma\u001b[0m \u001b[0;34m+\u001b[0m \u001b[0;36m4\u001b[0m\u001b[0;34m\u001b[0m\u001b[0;34m\u001b[0m\u001b[0m\n\u001b[0m",
      "\u001b[0;31mTypeError\u001b[0m: can only concatenate str (not \"int\") to str"
     ]
    }
   ],
   "source": [
    "a + 4"
   ]
  },
  {
   "cell_type": "code",
   "execution_count": 24,
   "id": "be6f4e82",
   "metadata": {},
   "outputs": [
    {
     "data": {
      "text/plain": [
       "'Amir4'"
      ]
     },
     "execution_count": 24,
     "metadata": {},
     "output_type": "execute_result"
    }
   ],
   "source": [
    "a + str(4)"
   ]
  },
  {
   "cell_type": "code",
   "execution_count": 25,
   "id": "3078f3db",
   "metadata": {},
   "outputs": [
    {
     "data": {
      "text/plain": [
       "2"
      ]
     },
     "execution_count": 25,
     "metadata": {},
     "output_type": "execute_result"
    }
   ],
   "source": [
    "True + True"
   ]
  },
  {
   "cell_type": "code",
   "execution_count": 26,
   "id": "8fa685ba",
   "metadata": {},
   "outputs": [
    {
     "data": {
      "text/plain": [
       "1"
      ]
     },
     "execution_count": 26,
     "metadata": {},
     "output_type": "execute_result"
    }
   ],
   "source": [
    "True - False"
   ]
  },
  {
   "cell_type": "code",
   "execution_count": 27,
   "id": "03ca8549",
   "metadata": {},
   "outputs": [
    {
     "data": {
      "text/plain": [
       "2"
      ]
     },
     "execution_count": 27,
     "metadata": {},
     "output_type": "execute_result"
    }
   ],
   "source": [
    "1 + True"
   ]
  },
  {
   "cell_type": "code",
   "execution_count": 28,
   "id": "9f05d4e3",
   "metadata": {},
   "outputs": [
    {
     "name": "stdout",
     "output_type": "stream",
     "text": [
      "Hello\n"
     ]
    },
    {
     "data": {
      "text/plain": [
       "'Hello'"
      ]
     },
     "execution_count": 28,
     "metadata": {},
     "output_type": "execute_result"
    }
   ],
   "source": [
    "input()"
   ]
  },
  {
   "cell_type": "code",
   "execution_count": 29,
   "id": "dab09176",
   "metadata": {},
   "outputs": [],
   "source": [
    "a =\"sudh\""
   ]
  },
  {
   "cell_type": "code",
   "execution_count": 30,
   "id": "5f6a44e4",
   "metadata": {},
   "outputs": [
    {
     "name": "stdout",
     "output_type": "stream",
     "text": [
      "35443453\n"
     ]
    }
   ],
   "source": [
    "a = input()"
   ]
  },
  {
   "cell_type": "code",
   "execution_count": 31,
   "id": "72e84704",
   "metadata": {},
   "outputs": [],
   "source": [
    "b = 45"
   ]
  },
  {
   "cell_type": "code",
   "execution_count": 32,
   "id": "894d4fd9",
   "metadata": {},
   "outputs": [
    {
     "ename": "TypeError",
     "evalue": "can only concatenate str (not \"int\") to str",
     "output_type": "error",
     "traceback": [
      "\u001b[0;31m---------------------------------------------------------------------------\u001b[0m",
      "\u001b[0;31mTypeError\u001b[0m                                 Traceback (most recent call last)",
      "\u001b[0;32m/var/folders/df/flymxr5s059ctrpmw61n9zv40000gn/T/ipykernel_673/1216668022.py\u001b[0m in \u001b[0;36m<module>\u001b[0;34m\u001b[0m\n\u001b[0;32m----> 1\u001b[0;31m \u001b[0ma\u001b[0m \u001b[0;34m+\u001b[0m \u001b[0mb\u001b[0m\u001b[0;34m\u001b[0m\u001b[0;34m\u001b[0m\u001b[0m\n\u001b[0m",
      "\u001b[0;31mTypeError\u001b[0m: can only concatenate str (not \"int\") to str"
     ]
    }
   ],
   "source": [
    "a + b"
   ]
  },
  {
   "cell_type": "code",
   "execution_count": 33,
   "id": "f1fc2d8b",
   "metadata": {},
   "outputs": [
    {
     "data": {
      "text/plain": [
       "35443498"
      ]
     },
     "execution_count": 33,
     "metadata": {},
     "output_type": "execute_result"
    }
   ],
   "source": [
    "int(a) + b"
   ]
  },
  {
   "cell_type": "code",
   "execution_count": 34,
   "id": "deb36ceb",
   "metadata": {},
   "outputs": [],
   "source": [
    "s = \"Amir\""
   ]
  },
  {
   "cell_type": "code",
   "execution_count": 35,
   "id": "eeb9c404",
   "metadata": {},
   "outputs": [
    {
     "data": {
      "text/plain": [
       "'A'"
      ]
     },
     "execution_count": 35,
     "metadata": {},
     "output_type": "execute_result"
    }
   ],
   "source": [
    "s[0]"
   ]
  },
  {
   "cell_type": "code",
   "execution_count": 36,
   "id": "c586c987",
   "metadata": {},
   "outputs": [
    {
     "ename": "IndexError",
     "evalue": "string index out of range",
     "output_type": "error",
     "traceback": [
      "\u001b[0;31m---------------------------------------------------------------------------\u001b[0m",
      "\u001b[0;31mIndexError\u001b[0m                                Traceback (most recent call last)",
      "\u001b[0;32m/var/folders/df/flymxr5s059ctrpmw61n9zv40000gn/T/ipykernel_673/1495924492.py\u001b[0m in \u001b[0;36m<module>\u001b[0;34m\u001b[0m\n\u001b[0;32m----> 1\u001b[0;31m \u001b[0ms\u001b[0m\u001b[0;34m[\u001b[0m\u001b[0;36m5\u001b[0m\u001b[0;34m]\u001b[0m\u001b[0;34m\u001b[0m\u001b[0;34m\u001b[0m\u001b[0m\n\u001b[0m",
      "\u001b[0;31mIndexError\u001b[0m: string index out of range"
     ]
    }
   ],
   "source": [
    "s[5]"
   ]
  },
  {
   "cell_type": "code",
   "execution_count": 37,
   "id": "eba3dc0f",
   "metadata": {},
   "outputs": [
    {
     "data": {
      "text/plain": [
       "'r'"
      ]
     },
     "execution_count": 37,
     "metadata": {},
     "output_type": "execute_result"
    }
   ],
   "source": [
    "s[3]"
   ]
  },
  {
   "cell_type": "code",
   "execution_count": 38,
   "id": "fa7a4681",
   "metadata": {},
   "outputs": [
    {
     "data": {
      "text/plain": [
       "'r'"
      ]
     },
     "execution_count": 38,
     "metadata": {},
     "output_type": "execute_result"
    }
   ],
   "source": [
    "s[-1]"
   ]
  },
  {
   "cell_type": "code",
   "execution_count": 39,
   "id": "15d8650e",
   "metadata": {},
   "outputs": [
    {
     "ename": "IndexError",
     "evalue": "string index out of range",
     "output_type": "error",
     "traceback": [
      "\u001b[0;31m---------------------------------------------------------------------------\u001b[0m",
      "\u001b[0;31mIndexError\u001b[0m                                Traceback (most recent call last)",
      "\u001b[0;32m/var/folders/df/flymxr5s059ctrpmw61n9zv40000gn/T/ipykernel_673/1232273192.py\u001b[0m in \u001b[0;36m<module>\u001b[0;34m\u001b[0m\n\u001b[0;32m----> 1\u001b[0;31m \u001b[0ms\u001b[0m\u001b[0;34m[\u001b[0m\u001b[0;36m4\u001b[0m\u001b[0;34m]\u001b[0m\u001b[0;34m\u001b[0m\u001b[0;34m\u001b[0m\u001b[0m\n\u001b[0m",
      "\u001b[0;31mIndexError\u001b[0m: string index out of range"
     ]
    }
   ],
   "source": [
    "s[4]"
   ]
  },
  {
   "cell_type": "code",
   "execution_count": 40,
   "id": "14a9b1c8",
   "metadata": {},
   "outputs": [
    {
     "data": {
      "text/plain": [
       "'A'"
      ]
     },
     "execution_count": 40,
     "metadata": {},
     "output_type": "execute_result"
    }
   ],
   "source": [
    "s[-4]"
   ]
  },
  {
   "cell_type": "code",
   "execution_count": 41,
   "id": "fbb55f7a",
   "metadata": {},
   "outputs": [],
   "source": [
    "a = \"My name is Amir\""
   ]
  },
  {
   "cell_type": "code",
   "execution_count": 42,
   "id": "67c7989c",
   "metadata": {},
   "outputs": [
    {
     "ename": "IndexError",
     "evalue": "string index out of range",
     "output_type": "error",
     "traceback": [
      "\u001b[0;31m---------------------------------------------------------------------------\u001b[0m",
      "\u001b[0;31mIndexError\u001b[0m                                Traceback (most recent call last)",
      "\u001b[0;32m/var/folders/df/flymxr5s059ctrpmw61n9zv40000gn/T/ipykernel_673/3418884185.py\u001b[0m in \u001b[0;36m<module>\u001b[0;34m\u001b[0m\n\u001b[0;32m----> 1\u001b[0;31m \u001b[0ma\u001b[0m\u001b[0;34m[\u001b[0m\u001b[0;36m100\u001b[0m\u001b[0;34m]\u001b[0m\u001b[0;34m\u001b[0m\u001b[0;34m\u001b[0m\u001b[0m\n\u001b[0m",
      "\u001b[0;31mIndexError\u001b[0m: string index out of range"
     ]
    }
   ],
   "source": [
    "a[100]"
   ]
  },
  {
   "cell_type": "code",
   "execution_count": 43,
   "id": "d64533ee",
   "metadata": {},
   "outputs": [
    {
     "data": {
      "text/plain": [
       "'My name is Amir'"
      ]
     },
     "execution_count": 43,
     "metadata": {},
     "output_type": "execute_result"
    }
   ],
   "source": [
    "a"
   ]
  },
  {
   "cell_type": "code",
   "execution_count": 44,
   "id": "4961c676",
   "metadata": {},
   "outputs": [
    {
     "data": {
      "text/plain": [
       "'My name is'"
      ]
     },
     "execution_count": 44,
     "metadata": {},
     "output_type": "execute_result"
    }
   ],
   "source": [
    "a[0:10]"
   ]
  },
  {
   "cell_type": "code",
   "execution_count": 45,
   "id": "836243b3",
   "metadata": {},
   "outputs": [],
   "source": [
    "b = \"ineuron\""
   ]
  },
  {
   "cell_type": "code",
   "execution_count": 46,
   "id": "161a3aa7",
   "metadata": {},
   "outputs": [
    {
     "data": {
      "text/plain": [
       "'ine'"
      ]
     },
     "execution_count": 46,
     "metadata": {},
     "output_type": "execute_result"
    }
   ],
   "source": [
    "b[0:3]"
   ]
  },
  {
   "cell_type": "code",
   "execution_count": 47,
   "id": "3f7999f2",
   "metadata": {},
   "outputs": [
    {
     "data": {
      "text/plain": [
       "'ineuron'"
      ]
     },
     "execution_count": 47,
     "metadata": {},
     "output_type": "execute_result"
    }
   ],
   "source": [
    "b[0:300]"
   ]
  },
  {
   "cell_type": "code",
   "execution_count": 48,
   "id": "278722bc",
   "metadata": {},
   "outputs": [
    {
     "ename": "IndexError",
     "evalue": "string index out of range",
     "output_type": "error",
     "traceback": [
      "\u001b[0;31m---------------------------------------------------------------------------\u001b[0m",
      "\u001b[0;31mIndexError\u001b[0m                                Traceback (most recent call last)",
      "\u001b[0;32m/var/folders/df/flymxr5s059ctrpmw61n9zv40000gn/T/ipykernel_673/2380424124.py\u001b[0m in \u001b[0;36m<module>\u001b[0;34m\u001b[0m\n\u001b[0;32m----> 1\u001b[0;31m \u001b[0mb\u001b[0m\u001b[0;34m[\u001b[0m\u001b[0;36m300\u001b[0m\u001b[0;34m]\u001b[0m\u001b[0;34m\u001b[0m\u001b[0;34m\u001b[0m\u001b[0m\n\u001b[0m",
      "\u001b[0;31mIndexError\u001b[0m: string index out of range"
     ]
    }
   ],
   "source": [
    "b[300]"
   ]
  },
  {
   "cell_type": "code",
   "execution_count": 49,
   "id": "716b304b",
   "metadata": {},
   "outputs": [
    {
     "data": {
      "text/plain": [
       "'n'"
      ]
     },
     "execution_count": 49,
     "metadata": {},
     "output_type": "execute_result"
    }
   ],
   "source": [
    "b[-1]"
   ]
  },
  {
   "cell_type": "code",
   "execution_count": 50,
   "id": "a37bc5ae",
   "metadata": {},
   "outputs": [
    {
     "data": {
      "text/plain": [
       "''"
      ]
     },
     "execution_count": 50,
     "metadata": {},
     "output_type": "execute_result"
    }
   ],
   "source": [
    "b[-1:-4]"
   ]
  },
  {
   "cell_type": "code",
   "execution_count": 51,
   "id": "fc03a7e1",
   "metadata": {},
   "outputs": [],
   "source": [
    "a=\"Subhani\""
   ]
  },
  {
   "cell_type": "code",
   "execution_count": 53,
   "id": "fcc6a08d",
   "metadata": {},
   "outputs": [
    {
     "data": {
      "text/plain": [
       "'Sbai'"
      ]
     },
     "execution_count": 53,
     "metadata": {},
     "output_type": "execute_result"
    }
   ],
   "source": [
    "a[0:300:2]"
   ]
  },
  {
   "cell_type": "code",
   "execution_count": 54,
   "id": "e1517caa",
   "metadata": {},
   "outputs": [
    {
     "data": {
      "text/plain": [
       "'Shi'"
      ]
     },
     "execution_count": 54,
     "metadata": {},
     "output_type": "execute_result"
    }
   ],
   "source": [
    "a[0:300:3]"
   ]
  },
  {
   "cell_type": "code",
   "execution_count": 55,
   "id": "492cbe77",
   "metadata": {},
   "outputs": [
    {
     "data": {
      "text/plain": [
       "'Subhani'"
      ]
     },
     "execution_count": 55,
     "metadata": {},
     "output_type": "execute_result"
    }
   ],
   "source": [
    "a"
   ]
  },
  {
   "cell_type": "code",
   "execution_count": 56,
   "id": "bd3bf7cd",
   "metadata": {},
   "outputs": [
    {
     "data": {
      "text/plain": [
       "''"
      ]
     },
     "execution_count": 56,
     "metadata": {},
     "output_type": "execute_result"
    }
   ],
   "source": [
    "a[0:300:-1]"
   ]
  },
  {
   "cell_type": "code",
   "execution_count": 57,
   "id": "25dbaf1d",
   "metadata": {},
   "outputs": [
    {
     "data": {
      "text/plain": [
       "'ina'"
      ]
     },
     "execution_count": 57,
     "metadata": {},
     "output_type": "execute_result"
    }
   ],
   "source": [
    "a[-1:-4:-1]"
   ]
  },
  {
   "cell_type": "code",
   "execution_count": 58,
   "id": "a854da3a",
   "metadata": {},
   "outputs": [],
   "source": [
    "a=\"Kumar\""
   ]
  },
  {
   "cell_type": "code",
   "execution_count": 59,
   "id": "7a519729",
   "metadata": {},
   "outputs": [
    {
     "data": {
      "text/plain": [
       "'K'"
      ]
     },
     "execution_count": 59,
     "metadata": {},
     "output_type": "execute_result"
    }
   ],
   "source": [
    "a[0:-10:-1]"
   ]
  },
  {
   "cell_type": "code",
   "execution_count": 60,
   "id": "4e704289",
   "metadata": {},
   "outputs": [
    {
     "data": {
      "text/plain": [
       "'Kumar'"
      ]
     },
     "execution_count": 60,
     "metadata": {},
     "output_type": "execute_result"
    }
   ],
   "source": [
    "a[::]"
   ]
  },
  {
   "cell_type": "code",
   "execution_count": 61,
   "id": "d0ae69db",
   "metadata": {},
   "outputs": [
    {
     "data": {
      "text/plain": [
       "'Kumar'"
      ]
     },
     "execution_count": 61,
     "metadata": {},
     "output_type": "execute_result"
    }
   ],
   "source": [
    "a[:]"
   ]
  },
  {
   "cell_type": "code",
   "execution_count": 62,
   "id": "b42479fd",
   "metadata": {},
   "outputs": [
    {
     "data": {
      "text/plain": [
       "'Kumar'"
      ]
     },
     "execution_count": 62,
     "metadata": {},
     "output_type": "execute_result"
    }
   ],
   "source": [
    "a[:8]"
   ]
  },
  {
   "cell_type": "code",
   "execution_count": 63,
   "id": "ff486dc4",
   "metadata": {},
   "outputs": [
    {
     "data": {
      "text/plain": [
       "'ar'"
      ]
     },
     "execution_count": 63,
     "metadata": {},
     "output_type": "execute_result"
    }
   ],
   "source": [
    "a[-2:]"
   ]
  },
  {
   "cell_type": "code",
   "execution_count": 64,
   "id": "a2711a05",
   "metadata": {},
   "outputs": [
    {
     "data": {
      "text/plain": [
       "'a'"
      ]
     },
     "execution_count": 64,
     "metadata": {},
     "output_type": "execute_result"
    }
   ],
   "source": [
    "a[-2:-1]"
   ]
  },
  {
   "cell_type": "code",
   "execution_count": 65,
   "id": "cbc1c624",
   "metadata": {},
   "outputs": [],
   "source": [
    "a=\"I am working with IBM\""
   ]
  },
  {
   "cell_type": "code",
   "execution_count": 66,
   "id": "b61c0f61",
   "metadata": {},
   "outputs": [
    {
     "data": {
      "text/plain": [
       "'MBI htiw gnikrow ma I'"
      ]
     },
     "execution_count": 66,
     "metadata": {},
     "output_type": "execute_result"
    }
   ],
   "source": [
    "a[::-1]"
   ]
  },
  {
   "cell_type": "code",
   "execution_count": 67,
   "id": "ea340c05",
   "metadata": {},
   "outputs": [
    {
     "data": {
      "text/plain": [
       "'AmirAmirAmir'"
      ]
     },
     "execution_count": 67,
     "metadata": {},
     "output_type": "execute_result"
    }
   ],
   "source": [
    "\"Amir\"*3"
   ]
  },
  {
   "cell_type": "code",
   "execution_count": 68,
   "id": "3ca0ae09",
   "metadata": {},
   "outputs": [
    {
     "data": {
      "text/plain": [
       "'AmirAmir'"
      ]
     },
     "execution_count": 68,
     "metadata": {},
     "output_type": "execute_result"
    }
   ],
   "source": [
    "\"Amir\" + \"Amir\""
   ]
  },
  {
   "cell_type": "code",
   "execution_count": 69,
   "id": "b1862649",
   "metadata": {},
   "outputs": [
    {
     "data": {
      "text/plain": [
       "'I am working with IBM'"
      ]
     },
     "execution_count": 69,
     "metadata": {},
     "output_type": "execute_result"
    }
   ],
   "source": [
    "a"
   ]
  },
  {
   "cell_type": "code",
   "execution_count": 70,
   "id": "899aed47",
   "metadata": {},
   "outputs": [
    {
     "data": {
      "text/plain": [
       "21"
      ]
     },
     "execution_count": 70,
     "metadata": {},
     "output_type": "execute_result"
    }
   ],
   "source": [
    "len(a)"
   ]
  },
  {
   "cell_type": "code",
   "execution_count": 71,
   "id": "0265a568",
   "metadata": {},
   "outputs": [
    {
     "data": {
      "text/plain": [
       "2"
      ]
     },
     "execution_count": 71,
     "metadata": {},
     "output_type": "execute_result"
    }
   ],
   "source": [
    "a.find('a')"
   ]
  },
  {
   "cell_type": "code",
   "execution_count": 72,
   "id": "ead90320",
   "metadata": {},
   "outputs": [
    {
     "data": {
      "text/plain": [
       "9"
      ]
     },
     "execution_count": 72,
     "metadata": {},
     "output_type": "execute_result"
    }
   ],
   "source": [
    "a.find('i')"
   ]
  },
  {
   "cell_type": "code",
   "execution_count": 74,
   "id": "7013a2c8",
   "metadata": {},
   "outputs": [
    {
     "data": {
      "text/plain": [
       "-1"
      ]
     },
     "execution_count": 74,
     "metadata": {},
     "output_type": "execute_result"
    }
   ],
   "source": [
    "a.find('ia')"
   ]
  },
  {
   "cell_type": "code",
   "execution_count": 75,
   "id": "1c5ace32",
   "metadata": {},
   "outputs": [
    {
     "data": {
      "text/plain": [
       "2"
      ]
     },
     "execution_count": 75,
     "metadata": {},
     "output_type": "execute_result"
    }
   ],
   "source": [
    "a.count('i')"
   ]
  },
  {
   "cell_type": "code",
   "execution_count": 77,
   "id": "f1e4ab1c",
   "metadata": {},
   "outputs": [
    {
     "data": {
      "text/plain": [
       "['I', 'am', 'working', 'with', 'IBM']"
      ]
     },
     "execution_count": 77,
     "metadata": {},
     "output_type": "execute_result"
    }
   ],
   "source": [
    "a.split()"
   ]
  },
  {
   "cell_type": "code",
   "execution_count": 78,
   "id": "4f39015a",
   "metadata": {},
   "outputs": [
    {
     "data": {
      "text/plain": [
       "list"
      ]
     },
     "execution_count": 78,
     "metadata": {},
     "output_type": "execute_result"
    }
   ],
   "source": [
    "type(a.split())"
   ]
  },
  {
   "cell_type": "code",
   "execution_count": 81,
   "id": "650314bf",
   "metadata": {},
   "outputs": [],
   "source": [
    "l = a.split()"
   ]
  },
  {
   "cell_type": "code",
   "execution_count": 82,
   "id": "e0378d4e",
   "metadata": {},
   "outputs": [
    {
     "data": {
      "text/plain": [
       "['I', 'am', 'working', 'with', 'IBM']"
      ]
     },
     "execution_count": 82,
     "metadata": {},
     "output_type": "execute_result"
    }
   ],
   "source": [
    "l"
   ]
  },
  {
   "cell_type": "code",
   "execution_count": 83,
   "id": "6fef0317",
   "metadata": {},
   "outputs": [
    {
     "data": {
      "text/plain": [
       "'I'"
      ]
     },
     "execution_count": 83,
     "metadata": {},
     "output_type": "execute_result"
    }
   ],
   "source": [
    "l[0]"
   ]
  },
  {
   "cell_type": "code",
   "execution_count": 84,
   "id": "81c1d398",
   "metadata": {},
   "outputs": [
    {
     "data": {
      "text/plain": [
       "'am'"
      ]
     },
     "execution_count": 84,
     "metadata": {},
     "output_type": "execute_result"
    }
   ],
   "source": [
    "l[1]"
   ]
  },
  {
   "cell_type": "code",
   "execution_count": 85,
   "id": "9d5ecb9f",
   "metadata": {},
   "outputs": [
    {
     "data": {
      "text/plain": [
       "['I am ', 'orking ', 'ith IBM']"
      ]
     },
     "execution_count": 85,
     "metadata": {},
     "output_type": "execute_result"
    }
   ],
   "source": [
    "a.split('w')"
   ]
  },
  {
   "cell_type": "code",
   "execution_count": 86,
   "id": "ef699116",
   "metadata": {},
   "outputs": [
    {
     "data": {
      "text/plain": [
       "'I am working with IBM'"
      ]
     },
     "execution_count": 86,
     "metadata": {},
     "output_type": "execute_result"
    }
   ],
   "source": [
    "a"
   ]
  },
  {
   "cell_type": "code",
   "execution_count": 87,
   "id": "c9dcc007",
   "metadata": {},
   "outputs": [
    {
     "data": {
      "text/plain": [
       "'I AM WORKING WITH IBM'"
      ]
     },
     "execution_count": 87,
     "metadata": {},
     "output_type": "execute_result"
    }
   ],
   "source": [
    "a.upper()"
   ]
  },
  {
   "cell_type": "code",
   "execution_count": 88,
   "id": "ca7a5b1c",
   "metadata": {},
   "outputs": [],
   "source": [
    "s = \"AmiR\""
   ]
  },
  {
   "cell_type": "code",
   "execution_count": 89,
   "id": "b3d9b612",
   "metadata": {},
   "outputs": [
    {
     "data": {
      "text/plain": [
       "'aMIr'"
      ]
     },
     "execution_count": 89,
     "metadata": {},
     "output_type": "execute_result"
    }
   ],
   "source": [
    "s.swapcase()"
   ]
  },
  {
   "cell_type": "code",
   "execution_count": 90,
   "id": "b140358c",
   "metadata": {},
   "outputs": [
    {
     "data": {
      "text/plain": [
       "'Amir'"
      ]
     },
     "execution_count": 90,
     "metadata": {},
     "output_type": "execute_result"
    }
   ],
   "source": [
    "s.title()"
   ]
  },
  {
   "cell_type": "code",
   "execution_count": 91,
   "id": "a99534cb",
   "metadata": {},
   "outputs": [
    {
     "data": {
      "text/plain": [
       "'Amir'"
      ]
     },
     "execution_count": 91,
     "metadata": {},
     "output_type": "execute_result"
    }
   ],
   "source": [
    "s.capitalize()"
   ]
  },
  {
   "cell_type": "code",
   "execution_count": 92,
   "id": "2ebdc90e",
   "metadata": {},
   "outputs": [],
   "source": [
    "b = \"Amir\"\n",
    "c = \"Subhani\""
   ]
  },
  {
   "cell_type": "code",
   "execution_count": 94,
   "id": "5eb5383a",
   "metadata": {},
   "outputs": [
    {
     "data": {
      "text/plain": [
       "'SAmiruAmirbAmirhAmiraAmirnAmiri'"
      ]
     },
     "execution_count": 94,
     "metadata": {},
     "output_type": "execute_result"
    }
   ],
   "source": [
    "b.join(c)"
   ]
  },
  {
   "cell_type": "code",
   "execution_count": 96,
   "id": "8db5eccd",
   "metadata": {},
   "outputs": [
    {
     "data": {
      "text/plain": [
       "'S u b h a n i'"
      ]
     },
     "execution_count": 96,
     "metadata": {},
     "output_type": "execute_result"
    }
   ],
   "source": [
    "\" \".join(\"Subhani\")"
   ]
  },
  {
   "cell_type": "code",
   "execution_count": 98,
   "id": "09c346ff",
   "metadata": {},
   "outputs": [
    {
     "name": "stdout",
     "output_type": "stream",
     "text": [
      "h\n",
      "d\n",
      "u\n",
      "s\n"
     ]
    }
   ],
   "source": [
    "for i in reversed(\"sudh\"):\n",
    "    print(i)"
   ]
  },
  {
   "cell_type": "code",
   "execution_count": 99,
   "id": "d695368a",
   "metadata": {},
   "outputs": [],
   "source": [
    "s = \"sudh\""
   ]
  },
  {
   "cell_type": "code",
   "execution_count": 100,
   "id": "fd5fa73a",
   "metadata": {},
   "outputs": [
    {
     "data": {
      "text/plain": [
       "'hdus'"
      ]
     },
     "execution_count": 100,
     "metadata": {},
     "output_type": "execute_result"
    }
   ],
   "source": [
    "s[::-1]"
   ]
  },
  {
   "cell_type": "code",
   "execution_count": 101,
   "id": "3c90c721",
   "metadata": {},
   "outputs": [],
   "source": [
    "s = \" Amir \""
   ]
  },
  {
   "cell_type": "code",
   "execution_count": 102,
   "id": "9483da70",
   "metadata": {},
   "outputs": [
    {
     "data": {
      "text/plain": [
       "' Amir'"
      ]
     },
     "execution_count": 102,
     "metadata": {},
     "output_type": "execute_result"
    }
   ],
   "source": [
    "s.rstrip()"
   ]
  },
  {
   "cell_type": "code",
   "execution_count": 103,
   "id": "c12faf2f",
   "metadata": {},
   "outputs": [
    {
     "data": {
      "text/plain": [
       "'Amir '"
      ]
     },
     "execution_count": 103,
     "metadata": {},
     "output_type": "execute_result"
    }
   ],
   "source": [
    "s.lstrip()"
   ]
  },
  {
   "cell_type": "code",
   "execution_count": 104,
   "id": "e2430dc0",
   "metadata": {},
   "outputs": [
    {
     "data": {
      "text/plain": [
       "'Amir'"
      ]
     },
     "execution_count": 104,
     "metadata": {},
     "output_type": "execute_result"
    }
   ],
   "source": [
    "s.strip()"
   ]
  },
  {
   "cell_type": "code",
   "execution_count": 105,
   "id": "a7f10ebc",
   "metadata": {},
   "outputs": [],
   "source": [
    "s =\"Amir\""
   ]
  },
  {
   "cell_type": "code",
   "execution_count": 107,
   "id": "ac099ab0",
   "metadata": {},
   "outputs": [
    {
     "data": {
      "text/plain": [
       "'Amir'"
      ]
     },
     "execution_count": 107,
     "metadata": {},
     "output_type": "execute_result"
    }
   ],
   "source": [
    "s.replace(\"n\",\"hello\")"
   ]
  },
  {
   "cell_type": "code",
   "execution_count": 108,
   "id": "777c8354",
   "metadata": {},
   "outputs": [
    {
     "data": {
      "text/plain": [
       "'Amir    Subhani'"
      ]
     },
     "execution_count": 108,
     "metadata": {},
     "output_type": "execute_result"
    }
   ],
   "source": [
    "\"Amir\\tSubhani\".expandtabs()"
   ]
  },
  {
   "cell_type": "code",
   "execution_count": 110,
   "id": "f6a32657",
   "metadata": {},
   "outputs": [
    {
     "data": {
      "text/plain": [
       "'##################Amir##################'"
      ]
     },
     "execution_count": 110,
     "metadata": {},
     "output_type": "execute_result"
    }
   ],
   "source": [
    "s.center(40,'#')"
   ]
  },
  {
   "cell_type": "code",
   "execution_count": 111,
   "id": "180373e4",
   "metadata": {},
   "outputs": [
    {
     "data": {
      "text/plain": [
       "False"
      ]
     },
     "execution_count": 111,
     "metadata": {},
     "output_type": "execute_result"
    }
   ],
   "source": [
    "s.isupper(\n",
    ")"
   ]
  },
  {
   "cell_type": "code",
   "execution_count": 112,
   "id": "3e9b4499",
   "metadata": {},
   "outputs": [
    {
     "data": {
      "text/plain": [
       "'Amir'"
      ]
     },
     "execution_count": 112,
     "metadata": {},
     "output_type": "execute_result"
    }
   ],
   "source": [
    "s"
   ]
  },
  {
   "cell_type": "code",
   "execution_count": 113,
   "id": "b3808281",
   "metadata": {},
   "outputs": [
    {
     "data": {
      "text/plain": [
       "False"
      ]
     },
     "execution_count": 113,
     "metadata": {},
     "output_type": "execute_result"
    }
   ],
   "source": [
    "s.islower()"
   ]
  },
  {
   "cell_type": "code",
   "execution_count": 115,
   "id": "10c9e7dc",
   "metadata": {},
   "outputs": [
    {
     "data": {
      "text/plain": [
       "False"
      ]
     },
     "execution_count": 115,
     "metadata": {},
     "output_type": "execute_result"
    }
   ],
   "source": [
    "s.isspace(\n",
    ")"
   ]
  },
  {
   "cell_type": "code",
   "execution_count": 116,
   "id": "8f78f797",
   "metadata": {},
   "outputs": [
    {
     "data": {
      "text/plain": [
       "False"
      ]
     },
     "execution_count": 116,
     "metadata": {},
     "output_type": "execute_result"
    }
   ],
   "source": [
    "s.isdigit()"
   ]
  },
  {
   "cell_type": "code",
   "execution_count": 117,
   "id": "2e9c62af",
   "metadata": {},
   "outputs": [
    {
     "data": {
      "text/plain": [
       "False"
      ]
     },
     "execution_count": 117,
     "metadata": {},
     "output_type": "execute_result"
    }
   ],
   "source": [
    "s.endswith('h')"
   ]
  },
  {
   "cell_type": "code",
   "execution_count": 118,
   "id": "8a275abd",
   "metadata": {},
   "outputs": [
    {
     "data": {
      "text/plain": [
       "True"
      ]
     },
     "execution_count": 118,
     "metadata": {},
     "output_type": "execute_result"
    }
   ],
   "source": [
    "s.endswith('r')"
   ]
  },
  {
   "cell_type": "markdown",
   "id": "524d9fa8",
   "metadata": {},
   "source": [
    "List"
   ]
  },
  {
   "cell_type": "markdown",
   "id": "aa65e8cf",
   "metadata": {},
   "source": [
    "# List"
   ]
  },
  {
   "cell_type": "code",
   "execution_count": 122,
   "id": "9eec6d94",
   "metadata": {},
   "outputs": [],
   "source": [
    "l =['Amir','Subhani','Md','Kasim', 7877, 8687, True, 787.76]"
   ]
  },
  {
   "cell_type": "code",
   "execution_count": 123,
   "id": "928e3c2c",
   "metadata": {},
   "outputs": [
    {
     "data": {
      "text/plain": [
       "'Amir'"
      ]
     },
     "execution_count": 123,
     "metadata": {},
     "output_type": "execute_result"
    }
   ],
   "source": [
    "l[0]"
   ]
  },
  {
   "cell_type": "code",
   "execution_count": 124,
   "id": "2767ceb0",
   "metadata": {},
   "outputs": [
    {
     "data": {
      "text/plain": [
       "787.76"
      ]
     },
     "execution_count": 124,
     "metadata": {},
     "output_type": "execute_result"
    }
   ],
   "source": [
    "l[7]"
   ]
  },
  {
   "cell_type": "code",
   "execution_count": 125,
   "id": "e0754500",
   "metadata": {},
   "outputs": [
    {
     "data": {
      "text/plain": [
       "['Amir', 'Subhani', 'Md', 'Kasim']"
      ]
     },
     "execution_count": 125,
     "metadata": {},
     "output_type": "execute_result"
    }
   ],
   "source": [
    "l[0:4]"
   ]
  },
  {
   "cell_type": "code",
   "execution_count": 126,
   "id": "2cfd7bb1",
   "metadata": {},
   "outputs": [
    {
     "data": {
      "text/plain": [
       "787.76"
      ]
     },
     "execution_count": 126,
     "metadata": {},
     "output_type": "execute_result"
    }
   ],
   "source": [
    "l[-1]"
   ]
  },
  {
   "cell_type": "code",
   "execution_count": 127,
   "id": "75878c38",
   "metadata": {},
   "outputs": [
    {
     "data": {
      "text/plain": [
       "[787.76, True, 8687, 7877, 'Kasim', 'Md', 'Subhani', 'Amir']"
      ]
     },
     "execution_count": 127,
     "metadata": {},
     "output_type": "execute_result"
    }
   ],
   "source": [
    "l[::-1]"
   ]
  },
  {
   "cell_type": "code",
   "execution_count": 131,
   "id": "20d2a25b",
   "metadata": {},
   "outputs": [
    {
     "data": {
      "text/plain": [
       "[]"
      ]
     },
     "execution_count": 131,
     "metadata": {},
     "output_type": "execute_result"
    }
   ],
   "source": [
    "l[-1:6]"
   ]
  },
  {
   "cell_type": "code",
   "execution_count": 129,
   "id": "77a5d656",
   "metadata": {},
   "outputs": [
    {
     "data": {
      "text/plain": [
       "['Amir', 'Subhani', 'Md', 'Kasim', 7877, 8687, True, 787.76]"
      ]
     },
     "execution_count": 129,
     "metadata": {},
     "output_type": "execute_result"
    }
   ],
   "source": [
    "l"
   ]
  },
  {
   "cell_type": "code",
   "execution_count": 132,
   "id": "98e39041",
   "metadata": {},
   "outputs": [
    {
     "data": {
      "text/plain": [
       "'Amir'"
      ]
     },
     "execution_count": 132,
     "metadata": {},
     "output_type": "execute_result"
    }
   ],
   "source": [
    "l[0]"
   ]
  },
  {
   "cell_type": "code",
   "execution_count": 133,
   "id": "e20dced6",
   "metadata": {},
   "outputs": [
    {
     "data": {
      "text/plain": [
       "'m'"
      ]
     },
     "execution_count": 133,
     "metadata": {},
     "output_type": "execute_result"
    }
   ],
   "source": [
    "l[0][1]"
   ]
  },
  {
   "cell_type": "code",
   "execution_count": 134,
   "id": "b583e164",
   "metadata": {},
   "outputs": [],
   "source": [
    "l1 = ['Amir','Subhani',7897]\n",
    "l2 = ['Saif','Amir',7978]"
   ]
  },
  {
   "cell_type": "code",
   "execution_count": 135,
   "id": "bd469e6f",
   "metadata": {},
   "outputs": [
    {
     "data": {
      "text/plain": [
       "['Amir', 'Subhani', 7897, 'Saif', 'Amir', 7978]"
      ]
     },
     "execution_count": 135,
     "metadata": {},
     "output_type": "execute_result"
    }
   ],
   "source": [
    "l1+l2"
   ]
  },
  {
   "cell_type": "code",
   "execution_count": 136,
   "id": "fc8ea5b5",
   "metadata": {},
   "outputs": [
    {
     "ename": "TypeError",
     "evalue": "can only concatenate list (not \"str\") to list",
     "output_type": "error",
     "traceback": [
      "\u001b[0;31m---------------------------------------------------------------------------\u001b[0m",
      "\u001b[0;31mTypeError\u001b[0m                                 Traceback (most recent call last)",
      "\u001b[0;32m/var/folders/df/flymxr5s059ctrpmw61n9zv40000gn/T/ipykernel_673/336235655.py\u001b[0m in \u001b[0;36m<module>\u001b[0;34m\u001b[0m\n\u001b[0;32m----> 1\u001b[0;31m \u001b[0ml1\u001b[0m\u001b[0;34m+\u001b[0m\u001b[0;34m'Amir'\u001b[0m\u001b[0;34m\u001b[0m\u001b[0;34m\u001b[0m\u001b[0m\n\u001b[0m",
      "\u001b[0;31mTypeError\u001b[0m: can only concatenate list (not \"str\") to list"
     ]
    }
   ],
   "source": [
    "l1+'Amir'"
   ]
  },
  {
   "cell_type": "code",
   "execution_count": 137,
   "id": "9a9a042f",
   "metadata": {},
   "outputs": [
    {
     "data": {
      "text/plain": [
       "['Amir', 'Subhani', 7897, 'sheikh']"
      ]
     },
     "execution_count": 137,
     "metadata": {},
     "output_type": "execute_result"
    }
   ],
   "source": [
    "l1 + ['sheikh']"
   ]
  },
  {
   "cell_type": "code",
   "execution_count": 138,
   "id": "1a4d989e",
   "metadata": {},
   "outputs": [
    {
     "data": {
      "text/plain": [
       "['Amir', 'Subhani', 7897]"
      ]
     },
     "execution_count": 138,
     "metadata": {},
     "output_type": "execute_result"
    }
   ],
   "source": [
    "l1"
   ]
  },
  {
   "cell_type": "code",
   "execution_count": 139,
   "id": "bea77693",
   "metadata": {},
   "outputs": [
    {
     "data": {
      "text/plain": [
       "['Amir',\n",
       " 'Subhani',\n",
       " 7897,\n",
       " 'Amir',\n",
       " 'Subhani',\n",
       " 7897,\n",
       " 'Amir',\n",
       " 'Subhani',\n",
       " 7897,\n",
       " 'Amir',\n",
       " 'Subhani',\n",
       " 7897]"
      ]
     },
     "execution_count": 139,
     "metadata": {},
     "output_type": "execute_result"
    }
   ],
   "source": [
    "l1*4"
   ]
  },
  {
   "cell_type": "code",
   "execution_count": 140,
   "id": "907f933f",
   "metadata": {},
   "outputs": [
    {
     "data": {
      "text/plain": [
       "['Amir', 'Subhani', 7897, 'Amir', 'Subhani', 7897]"
      ]
     },
     "execution_count": 140,
     "metadata": {},
     "output_type": "execute_result"
    }
   ],
   "source": [
    "l1*2"
   ]
  },
  {
   "cell_type": "code",
   "execution_count": 141,
   "id": "02cb0646",
   "metadata": {},
   "outputs": [
    {
     "data": {
      "text/plain": [
       "['Amir', 'Subhani', 7897]"
      ]
     },
     "execution_count": 141,
     "metadata": {},
     "output_type": "execute_result"
    }
   ],
   "source": [
    "l1"
   ]
  },
  {
   "cell_type": "code",
   "execution_count": 143,
   "id": "7f7e66aa",
   "metadata": {},
   "outputs": [
    {
     "data": {
      "text/plain": [
       "'Amir'"
      ]
     },
     "execution_count": 143,
     "metadata": {},
     "output_type": "execute_result"
    }
   ],
   "source": [
    "l1[0]"
   ]
  },
  {
   "cell_type": "code",
   "execution_count": 144,
   "id": "df8e5451",
   "metadata": {},
   "outputs": [],
   "source": [
    "l1[0] = \"Saif\""
   ]
  },
  {
   "cell_type": "code",
   "execution_count": 145,
   "id": "42d74aa1",
   "metadata": {},
   "outputs": [
    {
     "data": {
      "text/plain": [
       "['Saif', 'Subhani', 7897]"
      ]
     },
     "execution_count": 145,
     "metadata": {},
     "output_type": "execute_result"
    }
   ],
   "source": [
    "l1"
   ]
  },
  {
   "cell_type": "code",
   "execution_count": 147,
   "id": "6e0f88c0",
   "metadata": {},
   "outputs": [
    {
     "data": {
      "text/plain": [
       "'u'"
      ]
     },
     "execution_count": 147,
     "metadata": {},
     "output_type": "execute_result"
    }
   ],
   "source": [
    "l1[0][1].replace('a','u')"
   ]
  },
  {
   "cell_type": "code",
   "execution_count": 148,
   "id": "51f206e1",
   "metadata": {},
   "outputs": [
    {
     "data": {
      "text/plain": [
       "['Saif', 'Subhani', 7897]"
      ]
     },
     "execution_count": 148,
     "metadata": {},
     "output_type": "execute_result"
    }
   ],
   "source": [
    "l1"
   ]
  },
  {
   "cell_type": "code",
   "execution_count": 149,
   "id": "aa551aca",
   "metadata": {},
   "outputs": [
    {
     "data": {
      "text/plain": [
       "False"
      ]
     },
     "execution_count": 149,
     "metadata": {},
     "output_type": "execute_result"
    }
   ],
   "source": [
    "345 in l1"
   ]
  },
  {
   "cell_type": "code",
   "execution_count": 150,
   "id": "24e14554",
   "metadata": {},
   "outputs": [
    {
     "data": {
      "text/plain": [
       "['Saif', 'Amir', 7978]"
      ]
     },
     "execution_count": 150,
     "metadata": {},
     "output_type": "execute_result"
    }
   ],
   "source": [
    "l2"
   ]
  },
  {
   "cell_type": "code",
   "execution_count": 151,
   "id": "b1dbb7e6",
   "metadata": {},
   "outputs": [],
   "source": [
    "l2.append(\"Rahul\")"
   ]
  },
  {
   "cell_type": "code",
   "execution_count": 152,
   "id": "bfbe6352",
   "metadata": {},
   "outputs": [
    {
     "data": {
      "text/plain": [
       "['Saif', 'Amir', 7978, 'Rahul']"
      ]
     },
     "execution_count": 152,
     "metadata": {},
     "output_type": "execute_result"
    }
   ],
   "source": [
    "l2"
   ]
  },
  {
   "cell_type": "code",
   "execution_count": 153,
   "id": "ae2206e1",
   "metadata": {},
   "outputs": [
    {
     "data": {
      "text/plain": [
       "['Saif', 'Amir', 7978, 'Rahul']"
      ]
     },
     "execution_count": 153,
     "metadata": {},
     "output_type": "execute_result"
    }
   ],
   "source": [
    "l2"
   ]
  },
  {
   "cell_type": "code",
   "execution_count": 154,
   "id": "c90f105b",
   "metadata": {},
   "outputs": [
    {
     "data": {
      "text/plain": [
       "'Rahul'"
      ]
     },
     "execution_count": 154,
     "metadata": {},
     "output_type": "execute_result"
    }
   ],
   "source": [
    "l2.pop()"
   ]
  },
  {
   "cell_type": "code",
   "execution_count": 155,
   "id": "0c4c356f",
   "metadata": {},
   "outputs": [
    {
     "data": {
      "text/plain": [
       "['Saif', 'Amir', 7978]"
      ]
     },
     "execution_count": 155,
     "metadata": {},
     "output_type": "execute_result"
    }
   ],
   "source": [
    "l2"
   ]
  },
  {
   "cell_type": "code",
   "execution_count": 156,
   "id": "78995dd3",
   "metadata": {},
   "outputs": [
    {
     "data": {
      "text/plain": [
       "'Amir'"
      ]
     },
     "execution_count": 156,
     "metadata": {},
     "output_type": "execute_result"
    }
   ],
   "source": [
    "l2.pop(1)"
   ]
  },
  {
   "cell_type": "code",
   "execution_count": 157,
   "id": "f7b6d467",
   "metadata": {},
   "outputs": [
    {
     "data": {
      "text/plain": [
       "['Saif', 7978]"
      ]
     },
     "execution_count": 157,
     "metadata": {},
     "output_type": "execute_result"
    }
   ],
   "source": [
    "l2"
   ]
  },
  {
   "cell_type": "code",
   "execution_count": 158,
   "id": "23ff6366",
   "metadata": {},
   "outputs": [],
   "source": [
    "l2.insert(1,\"Hello\")"
   ]
  },
  {
   "cell_type": "code",
   "execution_count": 159,
   "id": "06fbed62",
   "metadata": {},
   "outputs": [
    {
     "data": {
      "text/plain": [
       "['Saif', 'Hello', 7978]"
      ]
     },
     "execution_count": 159,
     "metadata": {},
     "output_type": "execute_result"
    }
   ],
   "source": [
    "l2"
   ]
  },
  {
   "cell_type": "code",
   "execution_count": 160,
   "id": "b698d523",
   "metadata": {},
   "outputs": [],
   "source": [
    "l2.insert(4,\"hhw\")"
   ]
  },
  {
   "cell_type": "code",
   "execution_count": 161,
   "id": "ab7c4f26",
   "metadata": {},
   "outputs": [
    {
     "data": {
      "text/plain": [
       "['Saif', 'Hello', 7978, 'hhw']"
      ]
     },
     "execution_count": 161,
     "metadata": {},
     "output_type": "execute_result"
    }
   ],
   "source": [
    "l2"
   ]
  },
  {
   "cell_type": "code",
   "execution_count": 162,
   "id": "15d2a548",
   "metadata": {},
   "outputs": [],
   "source": [
    "l2.insert(4,[67,87.9766,677,])"
   ]
  },
  {
   "cell_type": "code",
   "execution_count": 163,
   "id": "beb48e0e",
   "metadata": {},
   "outputs": [
    {
     "data": {
      "text/plain": [
       "['Saif', 'Hello', 7978, 'hhw', [67, 87.9766, 677]]"
      ]
     },
     "execution_count": 163,
     "metadata": {},
     "output_type": "execute_result"
    }
   ],
   "source": [
    "l2"
   ]
  },
  {
   "cell_type": "code",
   "execution_count": 164,
   "id": "3086da29",
   "metadata": {},
   "outputs": [
    {
     "data": {
      "text/plain": [
       "[[67, 87.9766, 677], 'hhw', 7978, 'Hello', 'Saif']"
      ]
     },
     "execution_count": 164,
     "metadata": {},
     "output_type": "execute_result"
    }
   ],
   "source": [
    "l2[::-1]"
   ]
  },
  {
   "cell_type": "code",
   "execution_count": 165,
   "id": "6df8ed70",
   "metadata": {},
   "outputs": [],
   "source": [
    "l2.reverse()"
   ]
  },
  {
   "cell_type": "code",
   "execution_count": 166,
   "id": "eb2b9e56",
   "metadata": {},
   "outputs": [
    {
     "data": {
      "text/plain": [
       "[[67, 87.9766, 677], 'hhw', 7978, 'Hello', 'Saif']"
      ]
     },
     "execution_count": 166,
     "metadata": {},
     "output_type": "execute_result"
    }
   ],
   "source": [
    "l2"
   ]
  },
  {
   "cell_type": "code",
   "execution_count": 167,
   "id": "a5d2f90b",
   "metadata": {},
   "outputs": [
    {
     "data": {
      "text/plain": [
       "[[67, 87.9766, 677], 'hhw', 7978, 'Hello', 'Saif']"
      ]
     },
     "execution_count": 167,
     "metadata": {},
     "output_type": "execute_result"
    }
   ],
   "source": [
    "l2"
   ]
  },
  {
   "cell_type": "code",
   "execution_count": 168,
   "id": "aef78eb6",
   "metadata": {},
   "outputs": [
    {
     "data": {
      "text/plain": [
       "87.9766"
      ]
     },
     "execution_count": 168,
     "metadata": {},
     "output_type": "execute_result"
    }
   ],
   "source": [
    "l2[0][1]"
   ]
  },
  {
   "cell_type": "code",
   "execution_count": 169,
   "id": "a0d7f0c9",
   "metadata": {},
   "outputs": [
    {
     "data": {
      "text/plain": [
       "'w'"
      ]
     },
     "execution_count": 169,
     "metadata": {},
     "output_type": "execute_result"
    }
   ],
   "source": [
    "l2[1][2]"
   ]
  },
  {
   "cell_type": "code",
   "execution_count": 172,
   "id": "22650a75",
   "metadata": {},
   "outputs": [
    {
     "data": {
      "text/plain": [
       "0"
      ]
     },
     "execution_count": 172,
     "metadata": {},
     "output_type": "execute_result"
    }
   ],
   "source": [
    "l2.count('h')"
   ]
  },
  {
   "cell_type": "code",
   "execution_count": 173,
   "id": "725c589a",
   "metadata": {},
   "outputs": [
    {
     "data": {
      "text/plain": [
       "5"
      ]
     },
     "execution_count": 173,
     "metadata": {},
     "output_type": "execute_result"
    }
   ],
   "source": [
    "len(l2)"
   ]
  },
  {
   "cell_type": "code",
   "execution_count": 174,
   "id": "4296de8f",
   "metadata": {},
   "outputs": [
    {
     "data": {
      "text/plain": [
       "['Saif', 'Subhani', 7897]"
      ]
     },
     "execution_count": 174,
     "metadata": {},
     "output_type": "execute_result"
    }
   ],
   "source": [
    "l1"
   ]
  },
  {
   "cell_type": "code",
   "execution_count": 175,
   "id": "80590ac4",
   "metadata": {},
   "outputs": [
    {
     "data": {
      "text/plain": [
       "[[67, 87.9766, 677], 'hhw', 7978, 'Hello', 'Saif']"
      ]
     },
     "execution_count": 175,
     "metadata": {},
     "output_type": "execute_result"
    }
   ],
   "source": [
    "l2"
   ]
  },
  {
   "cell_type": "code",
   "execution_count": null,
   "id": "7b1763a2",
   "metadata": {},
   "outputs": [],
   "source": []
  }
 ],
 "metadata": {
  "kernelspec": {
   "display_name": "Python 3 (ipykernel)",
   "language": "python",
   "name": "python3"
  },
  "language_info": {
   "codemirror_mode": {
    "name": "ipython",
    "version": 3
   },
   "file_extension": ".py",
   "mimetype": "text/x-python",
   "name": "python",
   "nbconvert_exporter": "python",
   "pygments_lexer": "ipython3",
   "version": "3.9.7"
  }
 },
 "nbformat": 4,
 "nbformat_minor": 5
}
