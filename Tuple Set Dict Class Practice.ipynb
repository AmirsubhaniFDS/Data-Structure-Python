{
 "cells": [
  {
   "cell_type": "markdown",
   "id": "3a5f6127",
   "metadata": {},
   "source": [
    "# Tuple Class Practice"
   ]
  },
  {
   "cell_type": "code",
   "execution_count": 1,
   "id": "748816ea",
   "metadata": {},
   "outputs": [
    {
     "data": {
      "text/plain": [
       "3"
      ]
     },
     "execution_count": 1,
     "metadata": {},
     "output_type": "execute_result"
    }
   ],
   "source": [
    "1+2"
   ]
  },
  {
   "cell_type": "code",
   "execution_count": 3,
   "id": "7b706319",
   "metadata": {},
   "outputs": [],
   "source": [
    "t=(1,2,3,4,5)"
   ]
  },
  {
   "cell_type": "code",
   "execution_count": 4,
   "id": "a1b93234",
   "metadata": {},
   "outputs": [
    {
     "data": {
      "text/plain": [
       "tuple"
      ]
     },
     "execution_count": 4,
     "metadata": {},
     "output_type": "execute_result"
    }
   ],
   "source": [
    "type(t)"
   ]
  },
  {
   "cell_type": "code",
   "execution_count": 5,
   "id": "eb261100",
   "metadata": {},
   "outputs": [],
   "source": [
    "t=(\"amr\",\"saif\",897,7+2j,678.65)"
   ]
  },
  {
   "cell_type": "code",
   "execution_count": 6,
   "id": "d3b60072",
   "metadata": {},
   "outputs": [
    {
     "data": {
      "text/plain": [
       "tuple"
      ]
     },
     "execution_count": 6,
     "metadata": {},
     "output_type": "execute_result"
    }
   ],
   "source": [
    "type(t)"
   ]
  },
  {
   "cell_type": "code",
   "execution_count": 7,
   "id": "eb77a2c2",
   "metadata": {},
   "outputs": [],
   "source": [
    "l=[\"amr\",\"saif\",897,7+2j,678.65]"
   ]
  },
  {
   "cell_type": "code",
   "execution_count": 8,
   "id": "3607384d",
   "metadata": {},
   "outputs": [
    {
     "data": {
      "text/plain": [
       "list"
      ]
     },
     "execution_count": 8,
     "metadata": {},
     "output_type": "execute_result"
    }
   ],
   "source": [
    "type(l)"
   ]
  },
  {
   "cell_type": "code",
   "execution_count": 9,
   "id": "034baf5b",
   "metadata": {},
   "outputs": [
    {
     "data": {
      "text/plain": [
       "('amr', 'saif', 897, (7+2j), 678.65)"
      ]
     },
     "execution_count": 9,
     "metadata": {},
     "output_type": "execute_result"
    }
   ],
   "source": [
    "t"
   ]
  },
  {
   "cell_type": "code",
   "execution_count": 10,
   "id": "26270ef6",
   "metadata": {},
   "outputs": [
    {
     "data": {
      "text/plain": [
       "'amr'"
      ]
     },
     "execution_count": 10,
     "metadata": {},
     "output_type": "execute_result"
    }
   ],
   "source": [
    "t[0\n",
    " ]"
   ]
  },
  {
   "cell_type": "code",
   "execution_count": 11,
   "id": "74d963bf",
   "metadata": {},
   "outputs": [
    {
     "data": {
      "text/plain": [
       "('amr', 'saif')"
      ]
     },
     "execution_count": 11,
     "metadata": {},
     "output_type": "execute_result"
    }
   ],
   "source": [
    "t[:2]"
   ]
  },
  {
   "cell_type": "code",
   "execution_count": 12,
   "id": "f9d56fdc",
   "metadata": {},
   "outputs": [
    {
     "data": {
      "text/plain": [
       "(678.65, (7+2j), 897, 'saif', 'amr')"
      ]
     },
     "execution_count": 12,
     "metadata": {},
     "output_type": "execute_result"
    }
   ],
   "source": [
    "t[::-1]"
   ]
  },
  {
   "cell_type": "code",
   "execution_count": 13,
   "id": "4241aec0",
   "metadata": {},
   "outputs": [
    {
     "data": {
      "text/plain": [
       "('amr', 'saif', 897, (7+2j), 678.65)"
      ]
     },
     "execution_count": 13,
     "metadata": {},
     "output_type": "execute_result"
    }
   ],
   "source": [
    "t"
   ]
  },
  {
   "cell_type": "code",
   "execution_count": 15,
   "id": "8f55850e",
   "metadata": {},
   "outputs": [
    {
     "data": {
      "text/plain": [
       "('amr', 897, 678.65)"
      ]
     },
     "execution_count": 15,
     "metadata": {},
     "output_type": "execute_result"
    }
   ],
   "source": [
    "t[::2]"
   ]
  },
  {
   "cell_type": "code",
   "execution_count": 16,
   "id": "8b0413e5",
   "metadata": {},
   "outputs": [
    {
     "data": {
      "text/plain": [
       "['amr', 'saif', 897, (7+2j), 678.65]"
      ]
     },
     "execution_count": 16,
     "metadata": {},
     "output_type": "execute_result"
    }
   ],
   "source": [
    "l"
   ]
  },
  {
   "cell_type": "code",
   "execution_count": 18,
   "id": "aaec3a85",
   "metadata": {},
   "outputs": [],
   "source": [
    "l[0]=\"Subhani\""
   ]
  },
  {
   "cell_type": "code",
   "execution_count": 19,
   "id": "e3833f9c",
   "metadata": {},
   "outputs": [
    {
     "data": {
      "text/plain": [
       "['Subhani', 'saif', 897, (7+2j), 678.65]"
      ]
     },
     "execution_count": 19,
     "metadata": {},
     "output_type": "execute_result"
    }
   ],
   "source": [
    "l"
   ]
  },
  {
   "cell_type": "code",
   "execution_count": 20,
   "id": "df7b19b8",
   "metadata": {},
   "outputs": [
    {
     "data": {
      "text/plain": [
       "('amr', 'saif', 897, (7+2j), 678.65)"
      ]
     },
     "execution_count": 20,
     "metadata": {},
     "output_type": "execute_result"
    }
   ],
   "source": [
    "t"
   ]
  },
  {
   "cell_type": "code",
   "execution_count": 21,
   "id": "4845fe90",
   "metadata": {},
   "outputs": [
    {
     "ename": "TypeError",
     "evalue": "'tuple' object does not support item assignment",
     "output_type": "error",
     "traceback": [
      "\u001b[0;31m---------------------------------------------------------------------------\u001b[0m",
      "\u001b[0;31mTypeError\u001b[0m                                 Traceback (most recent call last)",
      "\u001b[0;32m/var/folders/df/flymxr5s059ctrpmw61n9zv40000gn/T/ipykernel_1286/3899158477.py\u001b[0m in \u001b[0;36m<module>\u001b[0;34m\u001b[0m\n\u001b[0;32m----> 1\u001b[0;31m \u001b[0mt\u001b[0m\u001b[0;34m[\u001b[0m\u001b[0;36m0\u001b[0m\u001b[0;34m]\u001b[0m\u001b[0;34m=\u001b[0m\u001b[0;34m\"Subhani\"\u001b[0m\u001b[0;34m\u001b[0m\u001b[0;34m\u001b[0m\u001b[0m\n\u001b[0m",
      "\u001b[0;31mTypeError\u001b[0m: 'tuple' object does not support item assignment"
     ]
    }
   ],
   "source": [
    "t[0]=\"Subhani\""
   ]
  },
  {
   "cell_type": "code",
   "execution_count": 22,
   "id": "65d0d85b",
   "metadata": {},
   "outputs": [],
   "source": [
    "n = \"Amir\""
   ]
  },
  {
   "cell_type": "code",
   "execution_count": 23,
   "id": "2448ad29",
   "metadata": {},
   "outputs": [
    {
     "ename": "TypeError",
     "evalue": "'str' object does not support item assignment",
     "output_type": "error",
     "traceback": [
      "\u001b[0;31m---------------------------------------------------------------------------\u001b[0m",
      "\u001b[0;31mTypeError\u001b[0m                                 Traceback (most recent call last)",
      "\u001b[0;32m/var/folders/df/flymxr5s059ctrpmw61n9zv40000gn/T/ipykernel_1286/3839005743.py\u001b[0m in \u001b[0;36m<module>\u001b[0;34m\u001b[0m\n\u001b[0;32m----> 1\u001b[0;31m \u001b[0mn\u001b[0m\u001b[0;34m[\u001b[0m\u001b[0;36m2\u001b[0m\u001b[0;34m]\u001b[0m \u001b[0;34m=\u001b[0m \u001b[0;36m45\u001b[0m\u001b[0;34m\u001b[0m\u001b[0;34m\u001b[0m\u001b[0m\n\u001b[0m",
      "\u001b[0;31mTypeError\u001b[0m: 'str' object does not support item assignment"
     ]
    }
   ],
   "source": [
    "n[2] = 45"
   ]
  },
  {
   "cell_type": "code",
   "execution_count": 25,
   "id": "f53dca80",
   "metadata": {},
   "outputs": [
    {
     "data": {
      "text/plain": [
       "('amr', 'saif', 897, (7+2j), 678.65)"
      ]
     },
     "execution_count": 25,
     "metadata": {},
     "output_type": "execute_result"
    }
   ],
   "source": [
    "t"
   ]
  },
  {
   "cell_type": "code",
   "execution_count": 26,
   "id": "f2fb2142",
   "metadata": {},
   "outputs": [],
   "source": [
    "t2 = (34,34,56,46,456)"
   ]
  },
  {
   "cell_type": "code",
   "execution_count": 27,
   "id": "6d75b001",
   "metadata": {},
   "outputs": [
    {
     "data": {
      "text/plain": [
       "('amr', 'saif', 897, (7+2j), 678.65, 34, 34, 56, 46, 456)"
      ]
     },
     "execution_count": 27,
     "metadata": {},
     "output_type": "execute_result"
    }
   ],
   "source": [
    "t+t2"
   ]
  },
  {
   "cell_type": "code",
   "execution_count": 28,
   "id": "980c230c",
   "metadata": {},
   "outputs": [
    {
     "data": {
      "text/plain": [
       "('amr', 'saif', 897, (7+2j), 678.65, 'amr', 'saif', 897, (7+2j), 678.65)"
      ]
     },
     "execution_count": 28,
     "metadata": {},
     "output_type": "execute_result"
    }
   ],
   "source": [
    "t*2"
   ]
  },
  {
   "cell_type": "code",
   "execution_count": 29,
   "id": "ca09b0f4",
   "metadata": {},
   "outputs": [
    {
     "data": {
      "text/plain": [
       "['Subhani', 'saif', 897, (7+2j), 678.65]"
      ]
     },
     "execution_count": 29,
     "metadata": {},
     "output_type": "execute_result"
    }
   ],
   "source": [
    "l"
   ]
  },
  {
   "cell_type": "code",
   "execution_count": 30,
   "id": "88fafd6a",
   "metadata": {},
   "outputs": [
    {
     "data": {
      "text/plain": [
       "['Subhani',\n",
       " 'saif',\n",
       " 897,\n",
       " (7+2j),\n",
       " 678.65,\n",
       " 'Subhani',\n",
       " 'saif',\n",
       " 897,\n",
       " (7+2j),\n",
       " 678.65]"
      ]
     },
     "execution_count": 30,
     "metadata": {},
     "output_type": "execute_result"
    }
   ],
   "source": [
    "l*2"
   ]
  },
  {
   "cell_type": "code",
   "execution_count": 33,
   "id": "0620c01c",
   "metadata": {},
   "outputs": [
    {
     "data": {
      "text/plain": [
       "0"
      ]
     },
     "execution_count": 33,
     "metadata": {},
     "output_type": "execute_result"
    }
   ],
   "source": [
    "t2.count(897)"
   ]
  },
  {
   "cell_type": "code",
   "execution_count": 36,
   "id": "e32973ea",
   "metadata": {},
   "outputs": [
    {
     "data": {
      "text/plain": [
       "0"
      ]
     },
     "execution_count": 36,
     "metadata": {},
     "output_type": "execute_result"
    }
   ],
   "source": [
    "t.index('amr')"
   ]
  },
  {
   "cell_type": "code",
   "execution_count": 37,
   "id": "f6bf374e",
   "metadata": {},
   "outputs": [],
   "source": [
    "t =(34,736,899,(78,676,\"Saif\"),898)"
   ]
  },
  {
   "cell_type": "code",
   "execution_count": 38,
   "id": "20d15570",
   "metadata": {},
   "outputs": [
    {
     "data": {
      "text/plain": [
       "(34, 736, 899, (78, 676, 'Saif'), 898)"
      ]
     },
     "execution_count": 38,
     "metadata": {},
     "output_type": "execute_result"
    }
   ],
   "source": [
    "t"
   ]
  },
  {
   "cell_type": "code",
   "execution_count": 39,
   "id": "a8949d69",
   "metadata": {},
   "outputs": [
    {
     "ename": "TypeError",
     "evalue": "'tuple' object does not support item assignment",
     "output_type": "error",
     "traceback": [
      "\u001b[0;31m---------------------------------------------------------------------------\u001b[0m",
      "\u001b[0;31mTypeError\u001b[0m                                 Traceback (most recent call last)",
      "\u001b[0;32m/var/folders/df/flymxr5s059ctrpmw61n9zv40000gn/T/ipykernel_1286/3780142029.py\u001b[0m in \u001b[0;36m<module>\u001b[0;34m\u001b[0m\n\u001b[0;32m----> 1\u001b[0;31m \u001b[0mt\u001b[0m\u001b[0;34m[\u001b[0m\u001b[0;36m3\u001b[0m\u001b[0;34m]\u001b[0m\u001b[0;34m[\u001b[0m\u001b[0;36m1\u001b[0m\u001b[0;34m]\u001b[0m\u001b[0;34m=\u001b[0m\u001b[0;34m\"Subhani\"\u001b[0m\u001b[0;34m\u001b[0m\u001b[0;34m\u001b[0m\u001b[0m\n\u001b[0m",
      "\u001b[0;31mTypeError\u001b[0m: 'tuple' object does not support item assignment"
     ]
    }
   ],
   "source": [
    "t[3][1]=\"Subhani\""
   ]
  },
  {
   "cell_type": "code",
   "execution_count": 40,
   "id": "7825ceb4",
   "metadata": {},
   "outputs": [],
   "source": [
    "t1 = (34, 736, 899, [78, 676, 'Saif'], 898)"
   ]
  },
  {
   "cell_type": "code",
   "execution_count": 41,
   "id": "9b14a7b4",
   "metadata": {},
   "outputs": [
    {
     "data": {
      "text/plain": [
       "676"
      ]
     },
     "execution_count": 41,
     "metadata": {},
     "output_type": "execute_result"
    }
   ],
   "source": [
    "t[3][1]"
   ]
  },
  {
   "cell_type": "code",
   "execution_count": 44,
   "id": "a80ce3f8",
   "metadata": {},
   "outputs": [],
   "source": [
    "t1[3][1] = \"Subhani\""
   ]
  },
  {
   "cell_type": "code",
   "execution_count": 45,
   "id": "3fc34391",
   "metadata": {},
   "outputs": [
    {
     "data": {
      "text/plain": [
       "'Subhani'"
      ]
     },
     "execution_count": 45,
     "metadata": {},
     "output_type": "execute_result"
    }
   ],
   "source": [
    "t1[3][1]"
   ]
  },
  {
   "cell_type": "markdown",
   "id": "8291fa3e",
   "metadata": {},
   "source": [
    "# Set "
   ]
  },
  {
   "cell_type": "code",
   "execution_count": 48,
   "id": "a5715f06",
   "metadata": {},
   "outputs": [],
   "source": [
    "l =[1,2,3,3,4,5,6,2,4,5,4,5,3,9,0,0,5,6,7]"
   ]
  },
  {
   "cell_type": "code",
   "execution_count": 49,
   "id": "cb3ea19c",
   "metadata": {},
   "outputs": [
    {
     "data": {
      "text/plain": [
       "[1, 2, 3, 3, 4, 5, 6, 2, 4, 5, 4, 5, 3, 9, 0, 0, 5, 6, 7]"
      ]
     },
     "execution_count": 49,
     "metadata": {},
     "output_type": "execute_result"
    }
   ],
   "source": [
    "l"
   ]
  },
  {
   "cell_type": "code",
   "execution_count": 50,
   "id": "695ab79c",
   "metadata": {},
   "outputs": [
    {
     "data": {
      "text/plain": [
       "{0, 1, 2, 3, 4, 5, 6, 7, 9}"
      ]
     },
     "execution_count": 50,
     "metadata": {},
     "output_type": "execute_result"
    }
   ],
   "source": [
    "set(l)"
   ]
  },
  {
   "cell_type": "code",
   "execution_count": 51,
   "id": "8656fce9",
   "metadata": {},
   "outputs": [],
   "source": [
    "s = {}"
   ]
  },
  {
   "cell_type": "code",
   "execution_count": 52,
   "id": "b268a157",
   "metadata": {},
   "outputs": [
    {
     "data": {
      "text/plain": [
       "dict"
      ]
     },
     "execution_count": 52,
     "metadata": {},
     "output_type": "execute_result"
    }
   ],
   "source": [
    "type(s)"
   ]
  },
  {
   "cell_type": "code",
   "execution_count": 53,
   "id": "33f1dc03",
   "metadata": {},
   "outputs": [],
   "source": [
    "s1 = {1,2,3}"
   ]
  },
  {
   "cell_type": "code",
   "execution_count": 54,
   "id": "df7a1aa1",
   "metadata": {},
   "outputs": [
    {
     "data": {
      "text/plain": [
       "set"
      ]
     },
     "execution_count": 54,
     "metadata": {},
     "output_type": "execute_result"
    }
   ],
   "source": [
    "type(s1)"
   ]
  },
  {
   "cell_type": "code",
   "execution_count": 56,
   "id": "e3e21f86",
   "metadata": {},
   "outputs": [],
   "source": [
    "s2 ={2,2,2,22,2,2,2,24,4,4,45,56,6,77,78,8}"
   ]
  },
  {
   "cell_type": "code",
   "execution_count": 57,
   "id": "e5d376d4",
   "metadata": {},
   "outputs": [
    {
     "data": {
      "text/plain": [
       "{2, 4, 6, 8, 22, 24, 45, 56, 77, 78}"
      ]
     },
     "execution_count": 57,
     "metadata": {},
     "output_type": "execute_result"
    }
   ],
   "source": [
    "s2"
   ]
  },
  {
   "cell_type": "code",
   "execution_count": 58,
   "id": "20ddb6e7",
   "metadata": {},
   "outputs": [
    {
     "ename": "TypeError",
     "evalue": "'set' object is not subscriptable",
     "output_type": "error",
     "traceback": [
      "\u001b[0;31m---------------------------------------------------------------------------\u001b[0m",
      "\u001b[0;31mTypeError\u001b[0m                                 Traceback (most recent call last)",
      "\u001b[0;32m/var/folders/df/flymxr5s059ctrpmw61n9zv40000gn/T/ipykernel_1286/2344841457.py\u001b[0m in \u001b[0;36m<module>\u001b[0;34m\u001b[0m\n\u001b[0;32m----> 1\u001b[0;31m \u001b[0ms2\u001b[0m\u001b[0;34m[\u001b[0m\u001b[0;36m0\u001b[0m\u001b[0;34m]\u001b[0m\u001b[0;34m\u001b[0m\u001b[0;34m\u001b[0m\u001b[0m\n\u001b[0m",
      "\u001b[0;31mTypeError\u001b[0m: 'set' object is not subscriptable"
     ]
    }
   ],
   "source": [
    "s2[0]"
   ]
  },
  {
   "cell_type": "code",
   "execution_count": 59,
   "id": "554444f2",
   "metadata": {},
   "outputs": [
    {
     "data": {
      "text/plain": [
       "[2, 4, 6, 8, 45, 77, 78, 22, 24, 56]"
      ]
     },
     "execution_count": 59,
     "metadata": {},
     "output_type": "execute_result"
    }
   ],
   "source": [
    "list(s2)"
   ]
  },
  {
   "cell_type": "code",
   "execution_count": 60,
   "id": "42602658",
   "metadata": {},
   "outputs": [
    {
     "data": {
      "text/plain": [
       "{2, 4, 6, 8, 22, 24, 45, 56, 77, 78}"
      ]
     },
     "execution_count": 60,
     "metadata": {},
     "output_type": "execute_result"
    }
   ],
   "source": [
    "s2"
   ]
  },
  {
   "cell_type": "code",
   "execution_count": 61,
   "id": "ebd4d06a",
   "metadata": {},
   "outputs": [],
   "source": [
    "s2.add(768)"
   ]
  },
  {
   "cell_type": "code",
   "execution_count": 62,
   "id": "678991be",
   "metadata": {},
   "outputs": [
    {
     "data": {
      "text/plain": [
       "{2, 4, 6, 8, 22, 24, 45, 56, 77, 78, 768}"
      ]
     },
     "execution_count": 62,
     "metadata": {},
     "output_type": "execute_result"
    }
   ],
   "source": [
    "s2"
   ]
  },
  {
   "cell_type": "code",
   "execution_count": 63,
   "id": "f434c8ef",
   "metadata": {},
   "outputs": [],
   "source": [
    "s2.add(\"saif\")"
   ]
  },
  {
   "cell_type": "code",
   "execution_count": 64,
   "id": "961c45c2",
   "metadata": {},
   "outputs": [
    {
     "data": {
      "text/plain": [
       "{2, 22, 24, 4, 45, 56, 6, 768, 77, 78, 8, 'saif'}"
      ]
     },
     "execution_count": 64,
     "metadata": {},
     "output_type": "execute_result"
    }
   ],
   "source": [
    "s2"
   ]
  },
  {
   "cell_type": "code",
   "execution_count": 65,
   "id": "021a5f41",
   "metadata": {},
   "outputs": [
    {
     "ename": "TypeError",
     "evalue": "unhashable type: 'list'",
     "output_type": "error",
     "traceback": [
      "\u001b[0;31m---------------------------------------------------------------------------\u001b[0m",
      "\u001b[0;31mTypeError\u001b[0m                                 Traceback (most recent call last)",
      "\u001b[0;32m/var/folders/df/flymxr5s059ctrpmw61n9zv40000gn/T/ipykernel_1286/865997819.py\u001b[0m in \u001b[0;36m<module>\u001b[0;34m\u001b[0m\n\u001b[0;32m----> 1\u001b[0;31m \u001b[0ms2\u001b[0m\u001b[0;34m.\u001b[0m\u001b[0madd\u001b[0m\u001b[0;34m(\u001b[0m\u001b[0;34m[\u001b[0m\u001b[0;36m3\u001b[0m\u001b[0;34m,\u001b[0m\u001b[0;36m4\u001b[0m\u001b[0;34m,\u001b[0m\u001b[0;36m5\u001b[0m\u001b[0;34m,\u001b[0m\u001b[0;36m6\u001b[0m\u001b[0;34m]\u001b[0m\u001b[0;34m)\u001b[0m\u001b[0;34m\u001b[0m\u001b[0;34m\u001b[0m\u001b[0m\n\u001b[0m",
      "\u001b[0;31mTypeError\u001b[0m: unhashable type: 'list'"
     ]
    }
   ],
   "source": [
    "s2.add([3,4,5,6])"
   ]
  },
  {
   "cell_type": "code",
   "execution_count": 66,
   "id": "b8cfaa67",
   "metadata": {},
   "outputs": [
    {
     "ename": "TypeError",
     "evalue": "unhashable type: 'list'",
     "output_type": "error",
     "traceback": [
      "\u001b[0;31m---------------------------------------------------------------------------\u001b[0m",
      "\u001b[0;31mTypeError\u001b[0m                                 Traceback (most recent call last)",
      "\u001b[0;32m/var/folders/df/flymxr5s059ctrpmw61n9zv40000gn/T/ipykernel_1286/3205826067.py\u001b[0m in \u001b[0;36m<module>\u001b[0;34m\u001b[0m\n\u001b[0;32m----> 1\u001b[0;31m \u001b[0;34m{\u001b[0m\u001b[0;34m[\u001b[0m\u001b[0;36m673\u001b[0m\u001b[0;34m,\u001b[0m\u001b[0;36m4\u001b[0m\u001b[0;34m,\u001b[0m\u001b[0;36m5\u001b[0m\u001b[0;34m,\u001b[0m\u001b[0;36m6\u001b[0m\u001b[0;34m,\u001b[0m\u001b[0;36m7\u001b[0m\u001b[0;34m]\u001b[0m\u001b[0;34m,\u001b[0m\u001b[0;36m7\u001b[0m\u001b[0;34m,\u001b[0m\u001b[0;36m4\u001b[0m\u001b[0;34m,\u001b[0m\u001b[0;36m56\u001b[0m\u001b[0;34m}\u001b[0m\u001b[0;34m\u001b[0m\u001b[0;34m\u001b[0m\u001b[0m\n\u001b[0m",
      "\u001b[0;31mTypeError\u001b[0m: unhashable type: 'list'"
     ]
    }
   ],
   "source": [
    "{[673,4,5,6,7],7,4,56}"
   ]
  },
  {
   "cell_type": "code",
   "execution_count": 67,
   "id": "e66762bf",
   "metadata": {},
   "outputs": [
    {
     "data": {
      "text/plain": [
       "{(3, 4, 5, 6), 0, 7, 78, 9}"
      ]
     },
     "execution_count": 67,
     "metadata": {},
     "output_type": "execute_result"
    }
   ],
   "source": [
    "{(3,4,5,6),7,7,78,9,0}"
   ]
  },
  {
   "cell_type": "code",
   "execution_count": 68,
   "id": "ff3c87e9",
   "metadata": {},
   "outputs": [
    {
     "data": {
      "text/plain": [
       "{(3, 4, 5, 6), 0, 7, 78, 9}"
      ]
     },
     "execution_count": 68,
     "metadata": {},
     "output_type": "execute_result"
    }
   ],
   "source": [
    "{(3,4,5,6),(3,4,5,6),7,7,78,9,0}"
   ]
  },
  {
   "cell_type": "code",
   "execution_count": 69,
   "id": "37966395",
   "metadata": {},
   "outputs": [
    {
     "data": {
      "text/plain": [
       "{}"
      ]
     },
     "execution_count": 69,
     "metadata": {},
     "output_type": "execute_result"
    }
   ],
   "source": [
    "s"
   ]
  },
  {
   "cell_type": "code",
   "execution_count": 70,
   "id": "8623f60e",
   "metadata": {},
   "outputs": [
    {
     "data": {
      "text/plain": [
       "{1, 2, 3}"
      ]
     },
     "execution_count": 70,
     "metadata": {},
     "output_type": "execute_result"
    }
   ],
   "source": [
    "s1"
   ]
  },
  {
   "cell_type": "code",
   "execution_count": 71,
   "id": "3bfa7bbf",
   "metadata": {},
   "outputs": [],
   "source": [
    "s={(3,4,5,6),3,4,5}"
   ]
  },
  {
   "cell_type": "code",
   "execution_count": 72,
   "id": "8352917b",
   "metadata": {},
   "outputs": [],
   "source": [
    "s.remove(4)"
   ]
  },
  {
   "cell_type": "code",
   "execution_count": 73,
   "id": "a08ef160",
   "metadata": {},
   "outputs": [
    {
     "data": {
      "text/plain": [
       "{(3, 4, 5, 6), 3, 5}"
      ]
     },
     "execution_count": 73,
     "metadata": {},
     "output_type": "execute_result"
    }
   ],
   "source": [
    "s"
   ]
  },
  {
   "cell_type": "code",
   "execution_count": 75,
   "id": "48d7fcef",
   "metadata": {},
   "outputs": [
    {
     "ename": "KeyError",
     "evalue": "6",
     "output_type": "error",
     "traceback": [
      "\u001b[0;31m---------------------------------------------------------------------------\u001b[0m",
      "\u001b[0;31mKeyError\u001b[0m                                  Traceback (most recent call last)",
      "\u001b[0;32m/var/folders/df/flymxr5s059ctrpmw61n9zv40000gn/T/ipykernel_1286/1302457164.py\u001b[0m in \u001b[0;36m<module>\u001b[0;34m\u001b[0m\n\u001b[0;32m----> 1\u001b[0;31m \u001b[0ms\u001b[0m\u001b[0;34m.\u001b[0m\u001b[0mremove\u001b[0m\u001b[0;34m(\u001b[0m\u001b[0;36m6\u001b[0m\u001b[0;34m)\u001b[0m\u001b[0;34m\u001b[0m\u001b[0;34m\u001b[0m\u001b[0m\n\u001b[0m",
      "\u001b[0;31mKeyError\u001b[0m: 6"
     ]
    }
   ],
   "source": [
    "s.remove(6)"
   ]
  },
  {
   "cell_type": "code",
   "execution_count": 76,
   "id": "79b78a04",
   "metadata": {},
   "outputs": [],
   "source": [
    "s.discard(3)"
   ]
  },
  {
   "cell_type": "code",
   "execution_count": 77,
   "id": "04614180",
   "metadata": {},
   "outputs": [
    {
     "data": {
      "text/plain": [
       "{(3, 4, 5, 6), 5}"
      ]
     },
     "execution_count": 77,
     "metadata": {},
     "output_type": "execute_result"
    }
   ],
   "source": [
    "s"
   ]
  },
  {
   "cell_type": "code",
   "execution_count": 78,
   "id": "e5bf966d",
   "metadata": {},
   "outputs": [],
   "source": [
    "s.discard(6)"
   ]
  },
  {
   "cell_type": "code",
   "execution_count": 79,
   "id": "e8a3ab54",
   "metadata": {},
   "outputs": [
    {
     "data": {
      "text/plain": [
       "{(3, 4, 5, 6), 5}"
      ]
     },
     "execution_count": 79,
     "metadata": {},
     "output_type": "execute_result"
    }
   ],
   "source": [
    "s"
   ]
  },
  {
   "cell_type": "code",
   "execution_count": 81,
   "id": "e7d4ab5d",
   "metadata": {},
   "outputs": [
    {
     "data": {
      "text/plain": [
       "{'Amir', 'amir'}"
      ]
     },
     "execution_count": 81,
     "metadata": {},
     "output_type": "execute_result"
    }
   ],
   "source": [
    "{'Amir',\"amir\"}"
   ]
  },
  {
   "cell_type": "markdown",
   "id": "b105392b",
   "metadata": {},
   "source": [
    "# Dict"
   ]
  },
  {
   "cell_type": "code",
   "execution_count": 82,
   "id": "63f621df",
   "metadata": {},
   "outputs": [],
   "source": [
    "s = {4,5,6,7,8,9, 'Amir'}"
   ]
  },
  {
   "cell_type": "code",
   "execution_count": 83,
   "id": "ef4077bb",
   "metadata": {},
   "outputs": [
    {
     "data": {
      "text/plain": [
       "{4, 5, 6, 7, 8, 9, 'Amir'}"
      ]
     },
     "execution_count": 83,
     "metadata": {},
     "output_type": "execute_result"
    }
   ],
   "source": [
    "s"
   ]
  },
  {
   "cell_type": "code",
   "execution_count": 85,
   "id": "63ee1d55",
   "metadata": {},
   "outputs": [],
   "source": [
    "d = {}"
   ]
  },
  {
   "cell_type": "code",
   "execution_count": 87,
   "id": "c9f32a01",
   "metadata": {},
   "outputs": [
    {
     "data": {
      "text/plain": [
       "dict"
      ]
     },
     "execution_count": 87,
     "metadata": {},
     "output_type": "execute_result"
    }
   ],
   "source": [
    "type(d)"
   ]
  },
  {
   "cell_type": "code",
   "execution_count": 89,
   "id": "526613bc",
   "metadata": {},
   "outputs": [],
   "source": [
    "d1={2,3,2}"
   ]
  },
  {
   "cell_type": "code",
   "execution_count": 91,
   "id": "abb99e29",
   "metadata": {},
   "outputs": [
    {
     "data": {
      "text/plain": [
       "set"
      ]
     },
     "execution_count": 91,
     "metadata": {},
     "output_type": "execute_result"
    }
   ],
   "source": [
    "type(d1)"
   ]
  },
  {
   "cell_type": "code",
   "execution_count": 92,
   "id": "6f9ed268",
   "metadata": {},
   "outputs": [],
   "source": [
    "dict ={4:\"Amir\"}"
   ]
  },
  {
   "cell_type": "code",
   "execution_count": 94,
   "id": "58ef76a4",
   "metadata": {},
   "outputs": [],
   "source": [
    "d1={\"key1\": 5554,\"key2\":\"Amir\",56:[5,6,7,8]}"
   ]
  },
  {
   "cell_type": "code",
   "execution_count": 95,
   "id": "3595af8b",
   "metadata": {},
   "outputs": [
    {
     "data": {
      "text/plain": [
       "{'key1': 5554, 'key2': 'Amir', 56: [5, 6, 7, 8]}"
      ]
     },
     "execution_count": 95,
     "metadata": {},
     "output_type": "execute_result"
    }
   ],
   "source": [
    "d1"
   ]
  },
  {
   "cell_type": "code",
   "execution_count": 96,
   "id": "087e2e8b",
   "metadata": {},
   "outputs": [
    {
     "data": {
      "text/plain": [
       "5554"
      ]
     },
     "execution_count": 96,
     "metadata": {},
     "output_type": "execute_result"
    }
   ],
   "source": [
    "d1['key1']"
   ]
  },
  {
   "cell_type": "code",
   "execution_count": 98,
   "id": "84b500cf",
   "metadata": {},
   "outputs": [
    {
     "data": {
      "text/plain": [
       "[5, 6, 7, 8]"
      ]
     },
     "execution_count": 98,
     "metadata": {},
     "output_type": "execute_result"
    }
   ],
   "source": [
    "d1[56]"
   ]
  },
  {
   "cell_type": "code",
   "execution_count": 101,
   "id": "9947d009",
   "metadata": {},
   "outputs": [],
   "source": [
    "d = {3:[\"jjhi\",\"ujkkos\",\"oikmh\",7,8,9,0]}"
   ]
  },
  {
   "cell_type": "code",
   "execution_count": 103,
   "id": "d6e62b6e",
   "metadata": {},
   "outputs": [],
   "source": [
    "d ={\"key1\": [2,3,4,6],\"key2\":\"sudh\",\"key1\":45}"
   ]
  },
  {
   "cell_type": "code",
   "execution_count": 104,
   "id": "b553a152",
   "metadata": {},
   "outputs": [
    {
     "data": {
      "text/plain": [
       "45"
      ]
     },
     "execution_count": 104,
     "metadata": {},
     "output_type": "execute_result"
    }
   ],
   "source": [
    "d['key1']"
   ]
  },
  {
   "cell_type": "code",
   "execution_count": 105,
   "id": "d2cd5abb",
   "metadata": {},
   "outputs": [],
   "source": [
    "d3={\"+++\":'amir'}"
   ]
  },
  {
   "cell_type": "code",
   "execution_count": 107,
   "id": "193c6d46",
   "metadata": {},
   "outputs": [
    {
     "data": {
      "text/plain": [
       "'amir'"
      ]
     },
     "execution_count": 107,
     "metadata": {},
     "output_type": "execute_result"
    }
   ],
   "source": [
    "d3['+++']"
   ]
  },
  {
   "cell_type": "code",
   "execution_count": 108,
   "id": "dd4e8bc9",
   "metadata": {},
   "outputs": [],
   "source": [
    "d={'key1': [2,3,46,67],'name':'amir','mail':'hyks@gmail.com','mo_no':98765544,'key2':[3,4,56,7,5,5],'key3':{3,3,3,35,5,6,7,7,8},'key4':{4:5,8:7.8}}"
   ]
  },
  {
   "cell_type": "code",
   "execution_count": 109,
   "id": "ef6b7289",
   "metadata": {},
   "outputs": [
    {
     "data": {
      "text/plain": [
       "{'key1': [2, 3, 46, 67],\n",
       " 'name': 'amir',\n",
       " 'mail': 'hyks@gmail.com',\n",
       " 'mo_no': 98765544,\n",
       " 'key2': [3, 4, 56, 7, 5, 5],\n",
       " 'key3': {3, 5, 6, 7, 8, 35},\n",
       " 'key4': {4: 5, 8: 7.8}}"
      ]
     },
     "execution_count": 109,
     "metadata": {},
     "output_type": "execute_result"
    }
   ],
   "source": [
    "d"
   ]
  },
  {
   "cell_type": "code",
   "execution_count": 110,
   "id": "472da995",
   "metadata": {},
   "outputs": [
    {
     "data": {
      "text/plain": [
       "{3, 5, 6, 7, 8, 35}"
      ]
     },
     "execution_count": 110,
     "metadata": {},
     "output_type": "execute_result"
    }
   ],
   "source": [
    "d['key3']"
   ]
  },
  {
   "cell_type": "code",
   "execution_count": 111,
   "id": "0e039e89",
   "metadata": {},
   "outputs": [
    {
     "data": {
      "text/plain": [
       "set"
      ]
     },
     "execution_count": 111,
     "metadata": {},
     "output_type": "execute_result"
    }
   ],
   "source": [
    "type(d['key3'])"
   ]
  },
  {
   "cell_type": "code",
   "execution_count": 112,
   "id": "73c1aa18",
   "metadata": {},
   "outputs": [
    {
     "data": {
      "text/plain": [
       "{4: 5, 8: 7.8}"
      ]
     },
     "execution_count": 112,
     "metadata": {},
     "output_type": "execute_result"
    }
   ],
   "source": [
    "d['key4']"
   ]
  },
  {
   "cell_type": "code",
   "execution_count": 113,
   "id": "959a0ebd",
   "metadata": {},
   "outputs": [
    {
     "data": {
      "text/plain": [
       "7.8"
      ]
     },
     "execution_count": 113,
     "metadata": {},
     "output_type": "execute_result"
    }
   ],
   "source": [
    "d['key4'][8]"
   ]
  },
  {
   "cell_type": "code",
   "execution_count": 114,
   "id": "c620423a",
   "metadata": {},
   "outputs": [
    {
     "data": {
      "text/plain": [
       "{'key1': [2, 3, 46, 67],\n",
       " 'name': 'amir',\n",
       " 'mail': 'hyks@gmail.com',\n",
       " 'mo_no': 98765544,\n",
       " 'key2': [3, 4, 56, 7, 5, 5],\n",
       " 'key3': {3, 5, 6, 7, 8, 35},\n",
       " 'key4': {4: 5, 8: 7.8}}"
      ]
     },
     "execution_count": 114,
     "metadata": {},
     "output_type": "execute_result"
    }
   ],
   "source": [
    "d"
   ]
  },
  {
   "cell_type": "code",
   "execution_count": 115,
   "id": "636ae6aa",
   "metadata": {},
   "outputs": [
    {
     "data": {
      "text/plain": [
       "dict_keys(['key1', 'name', 'mail', 'mo_no', 'key2', 'key3', 'key4'])"
      ]
     },
     "execution_count": 115,
     "metadata": {},
     "output_type": "execute_result"
    }
   ],
   "source": [
    "d.keys()"
   ]
  },
  {
   "cell_type": "code",
   "execution_count": 116,
   "id": "ee63b0b8",
   "metadata": {},
   "outputs": [
    {
     "data": {
      "text/plain": [
       "dict_values([[2, 3, 46, 67], 'amir', 'hyks@gmail.com', 98765544, [3, 4, 56, 7, 5, 5], {3, 35, 5, 6, 7, 8}, {4: 5, 8: 7.8}])"
      ]
     },
     "execution_count": 116,
     "metadata": {},
     "output_type": "execute_result"
    }
   ],
   "source": [
    "d.values()"
   ]
  },
  {
   "cell_type": "code",
   "execution_count": 117,
   "id": "70863cef",
   "metadata": {},
   "outputs": [
    {
     "data": {
      "text/plain": [
       "dict_items([('key1', [2, 3, 46, 67]), ('name', 'amir'), ('mail', 'hyks@gmail.com'), ('mo_no', 98765544), ('key2', [3, 4, 56, 7, 5, 5]), ('key3', {3, 35, 5, 6, 7, 8}), ('key4', {4: 5, 8: 7.8})])"
      ]
     },
     "execution_count": 117,
     "metadata": {},
     "output_type": "execute_result"
    }
   ],
   "source": [
    "d.items()"
   ]
  },
  {
   "cell_type": "code",
   "execution_count": 118,
   "id": "a301aad0",
   "metadata": {},
   "outputs": [
    {
     "data": {
      "text/plain": [
       "dict_items"
      ]
     },
     "execution_count": 118,
     "metadata": {},
     "output_type": "execute_result"
    }
   ],
   "source": [
    "type(d.items())"
   ]
  },
  {
   "cell_type": "code",
   "execution_count": 119,
   "id": "0b35b9a1",
   "metadata": {},
   "outputs": [],
   "source": [
    "d={\"key\":'Amir', \"key2\":[3,5,6,7,8]}"
   ]
  },
  {
   "cell_type": "code",
   "execution_count": 120,
   "id": "18339342",
   "metadata": {},
   "outputs": [
    {
     "data": {
      "text/plain": [
       "{'key': 'Amir', 'key2': [3, 5, 6, 7, 8]}"
      ]
     },
     "execution_count": 120,
     "metadata": {},
     "output_type": "execute_result"
    }
   ],
   "source": [
    "d"
   ]
  },
  {
   "cell_type": "code",
   "execution_count": 121,
   "id": "23efacf4",
   "metadata": {},
   "outputs": [
    {
     "data": {
      "text/plain": [
       "'Amir'"
      ]
     },
     "execution_count": 121,
     "metadata": {},
     "output_type": "execute_result"
    }
   ],
   "source": [
    "d['key']"
   ]
  },
  {
   "cell_type": "code",
   "execution_count": 122,
   "id": "7cffa0d2",
   "metadata": {},
   "outputs": [],
   "source": [
    "d['key3'] = \"Subhani\""
   ]
  },
  {
   "cell_type": "code",
   "execution_count": 123,
   "id": "6b55cfea",
   "metadata": {},
   "outputs": [
    {
     "data": {
      "text/plain": [
       "{'key': 'Amir', 'key2': [3, 5, 6, 7, 8], 'key3': 'Subhani'}"
      ]
     },
     "execution_count": 123,
     "metadata": {},
     "output_type": "execute_result"
    }
   ],
   "source": [
    "d"
   ]
  },
  {
   "cell_type": "code",
   "execution_count": 125,
   "id": "42bfd15b",
   "metadata": {},
   "outputs": [],
   "source": [
    "d[4] = [5,6,7,9,3,5,6]"
   ]
  },
  {
   "cell_type": "code",
   "execution_count": 126,
   "id": "86adc33f",
   "metadata": {},
   "outputs": [
    {
     "data": {
      "text/plain": [
       "{'key': 'Amir',\n",
       " 'key2': [3, 5, 6, 7, 8],\n",
       " 'key3': 'Subhani',\n",
       " 4: [5, 6, 7, 9, 3, 5, 6]}"
      ]
     },
     "execution_count": 126,
     "metadata": {},
     "output_type": "execute_result"
    }
   ],
   "source": [
    "d"
   ]
  },
  {
   "cell_type": "code",
   "execution_count": 129,
   "id": "48179716",
   "metadata": {},
   "outputs": [],
   "source": [
    "d['key2'] = 'Sheikh'"
   ]
  },
  {
   "cell_type": "code",
   "execution_count": 130,
   "id": "47c173fc",
   "metadata": {},
   "outputs": [
    {
     "data": {
      "text/plain": [
       "{'key': 'Amir',\n",
       " 'key2': 'Sheikh',\n",
       " 'key3': 'Subhani',\n",
       " 4: [5, 6, 7, 9, 3, 5, 6],\n",
       " 'key1': 'Sheikh'}"
      ]
     },
     "execution_count": 130,
     "metadata": {},
     "output_type": "execute_result"
    }
   ],
   "source": [
    "d"
   ]
  },
  {
   "cell_type": "code",
   "execution_count": 131,
   "id": "27bd9c81",
   "metadata": {},
   "outputs": [],
   "source": [
    "del d['key1']"
   ]
  },
  {
   "cell_type": "code",
   "execution_count": 132,
   "id": "ad73aa43",
   "metadata": {},
   "outputs": [
    {
     "data": {
      "text/plain": [
       "{'key': 'Amir', 'key2': 'Sheikh', 'key3': 'Subhani', 4: [5, 6, 7, 9, 3, 5, 6]}"
      ]
     },
     "execution_count": 132,
     "metadata": {},
     "output_type": "execute_result"
    }
   ],
   "source": [
    "d"
   ]
  },
  {
   "cell_type": "code",
   "execution_count": 133,
   "id": "0b816618",
   "metadata": {},
   "outputs": [],
   "source": [
    "del d"
   ]
  },
  {
   "cell_type": "code",
   "execution_count": 134,
   "id": "ac9a094d",
   "metadata": {},
   "outputs": [
    {
     "ename": "NameError",
     "evalue": "name 'd' is not defined",
     "output_type": "error",
     "traceback": [
      "\u001b[0;31m---------------------------------------------------------------------------\u001b[0m",
      "\u001b[0;31mNameError\u001b[0m                                 Traceback (most recent call last)",
      "\u001b[0;32m/var/folders/df/flymxr5s059ctrpmw61n9zv40000gn/T/ipykernel_1286/3161387801.py\u001b[0m in \u001b[0;36m<module>\u001b[0;34m\u001b[0m\n\u001b[0;32m----> 1\u001b[0;31m \u001b[0md\u001b[0m\u001b[0;34m\u001b[0m\u001b[0;34m\u001b[0m\u001b[0m\n\u001b[0m",
      "\u001b[0;31mNameError\u001b[0m: name 'd' is not defined"
     ]
    }
   ],
   "source": [
    "d"
   ]
  },
  {
   "cell_type": "code",
   "execution_count": 135,
   "id": "0f40d4ec",
   "metadata": {},
   "outputs": [],
   "source": [
    "d1={'key1':'Amir','key2':[2,44,5,78,9,0]}"
   ]
  },
  {
   "cell_type": "code",
   "execution_count": 136,
   "id": "e8e03b09",
   "metadata": {},
   "outputs": [
    {
     "ename": "TypeError",
     "evalue": "unhashable type: 'list'",
     "output_type": "error",
     "traceback": [
      "\u001b[0;31m---------------------------------------------------------------------------\u001b[0m",
      "\u001b[0;31mTypeError\u001b[0m                                 Traceback (most recent call last)",
      "\u001b[0;32m/var/folders/df/flymxr5s059ctrpmw61n9zv40000gn/T/ipykernel_1286/1780733615.py\u001b[0m in \u001b[0;36m<module>\u001b[0;34m\u001b[0m\n\u001b[0;32m----> 1\u001b[0;31m \u001b[0md1\u001b[0m\u001b[0;34m[\u001b[0m\u001b[0;34m[\u001b[0m\u001b[0;36m1\u001b[0m\u001b[0;34m,\u001b[0m\u001b[0;36m2\u001b[0m\u001b[0;34m,\u001b[0m\u001b[0;36m4\u001b[0m\u001b[0;34m]\u001b[0m\u001b[0;34m]\u001b[0m\u001b[0;34m=\u001b[0m\u001b[0;34m\"hello\"\u001b[0m\u001b[0;34m\u001b[0m\u001b[0;34m\u001b[0m\u001b[0m\n\u001b[0m",
      "\u001b[0;31mTypeError\u001b[0m: unhashable type: 'list'"
     ]
    }
   ],
   "source": [
    "d1[[1,2,4]]=\"hello\""
   ]
  },
  {
   "cell_type": "code",
   "execution_count": 137,
   "id": "47bd34c8",
   "metadata": {},
   "outputs": [],
   "source": [
    "d1[(1,2,4)]=\"hello\""
   ]
  },
  {
   "cell_type": "code",
   "execution_count": 138,
   "id": "888e7c59",
   "metadata": {},
   "outputs": [
    {
     "data": {
      "text/plain": [
       "{'key1': 'Amir', 'key2': [2, 44, 5, 78, 9, 0], (1, 2, 4): 'hello'}"
      ]
     },
     "execution_count": 138,
     "metadata": {},
     "output_type": "execute_result"
    }
   ],
   "source": [
    "d1"
   ]
  },
  {
   "cell_type": "code",
   "execution_count": 139,
   "id": "7b3a20dd",
   "metadata": {},
   "outputs": [
    {
     "data": {
      "text/plain": [
       "'Amir'"
      ]
     },
     "execution_count": 139,
     "metadata": {},
     "output_type": "execute_result"
    }
   ],
   "source": [
    "d1.get(\"key1\")"
   ]
  },
  {
   "cell_type": "code",
   "execution_count": 140,
   "id": "cf8e0f0c",
   "metadata": {},
   "outputs": [],
   "source": [
    "d1 = {'key':'ineuron','course':'fsds'}"
   ]
  },
  {
   "cell_type": "code",
   "execution_count": 141,
   "id": "dfeaabb2",
   "metadata": {},
   "outputs": [
    {
     "data": {
      "text/plain": [
       "{'key': 'ineuron', 'course': 'fsds'}"
      ]
     },
     "execution_count": 141,
     "metadata": {},
     "output_type": "execute_result"
    }
   ],
   "source": [
    "d1"
   ]
  },
  {
   "cell_type": "code",
   "execution_count": 142,
   "id": "3edb00fe",
   "metadata": {},
   "outputs": [],
   "source": [
    "d2 = {\"key2\":5647,\"key3\":[7,8,9,5,6,7]}"
   ]
  },
  {
   "cell_type": "code",
   "execution_count": 143,
   "id": "0340c966",
   "metadata": {},
   "outputs": [],
   "source": [
    "d1.update(d2)"
   ]
  },
  {
   "cell_type": "code",
   "execution_count": 144,
   "id": "e7f605bd",
   "metadata": {},
   "outputs": [
    {
     "data": {
      "text/plain": [
       "{'key': 'ineuron', 'course': 'fsds', 'key2': 5647, 'key3': [7, 8, 9, 5, 6, 7]}"
      ]
     },
     "execution_count": 144,
     "metadata": {},
     "output_type": "execute_result"
    }
   ],
   "source": [
    "d1"
   ]
  },
  {
   "cell_type": "code",
   "execution_count": 145,
   "id": "bf86215c",
   "metadata": {},
   "outputs": [
    {
     "data": {
      "text/plain": [
       "{'key2': 5647, 'key3': [7, 8, 9, 5, 6, 7]}"
      ]
     },
     "execution_count": 145,
     "metadata": {},
     "output_type": "execute_result"
    }
   ],
   "source": [
    "d2"
   ]
  },
  {
   "cell_type": "code",
   "execution_count": 146,
   "id": "c12fe7d8",
   "metadata": {},
   "outputs": [
    {
     "ename": "TypeError",
     "evalue": "unsupported operand type(s) for +: 'dict' and 'dict'",
     "output_type": "error",
     "traceback": [
      "\u001b[0;31m---------------------------------------------------------------------------\u001b[0m",
      "\u001b[0;31mTypeError\u001b[0m                                 Traceback (most recent call last)",
      "\u001b[0;32m/var/folders/df/flymxr5s059ctrpmw61n9zv40000gn/T/ipykernel_1286/833095442.py\u001b[0m in \u001b[0;36m<module>\u001b[0;34m\u001b[0m\n\u001b[0;32m----> 1\u001b[0;31m \u001b[0md1\u001b[0m\u001b[0;34m+\u001b[0m\u001b[0md2\u001b[0m\u001b[0;34m\u001b[0m\u001b[0;34m\u001b[0m\u001b[0m\n\u001b[0m",
      "\u001b[0;31mTypeError\u001b[0m: unsupported operand type(s) for +: 'dict' and 'dict'"
     ]
    }
   ],
   "source": [
    "d1+d2"
   ]
  },
  {
   "cell_type": "code",
   "execution_count": 148,
   "id": "ac9893bf",
   "metadata": {},
   "outputs": [
    {
     "data": {
      "text/plain": [
       "'ineuron'"
      ]
     },
     "execution_count": 148,
     "metadata": {},
     "output_type": "execute_result"
    }
   ],
   "source": [
    "d1['key']"
   ]
  },
  {
   "cell_type": "code",
   "execution_count": 149,
   "id": "e0908643",
   "metadata": {},
   "outputs": [
    {
     "data": {
      "text/plain": [
       "'ineuron'"
      ]
     },
     "execution_count": 149,
     "metadata": {},
     "output_type": "execute_result"
    }
   ],
   "source": [
    "d1.get('key')"
   ]
  },
  {
   "cell_type": "code",
   "execution_count": 150,
   "id": "3f4ad7e0",
   "metadata": {},
   "outputs": [],
   "source": [
    "d1.get('key777')"
   ]
  },
  {
   "cell_type": "code",
   "execution_count": 151,
   "id": "137bd5ab",
   "metadata": {},
   "outputs": [
    {
     "ename": "KeyError",
     "evalue": "'key777'",
     "output_type": "error",
     "traceback": [
      "\u001b[0;31m---------------------------------------------------------------------------\u001b[0m",
      "\u001b[0;31mKeyError\u001b[0m                                  Traceback (most recent call last)",
      "\u001b[0;32m/var/folders/df/flymxr5s059ctrpmw61n9zv40000gn/T/ipykernel_1286/1558421780.py\u001b[0m in \u001b[0;36m<module>\u001b[0;34m\u001b[0m\n\u001b[0;32m----> 1\u001b[0;31m \u001b[0md1\u001b[0m\u001b[0;34m[\u001b[0m\u001b[0;34m'key777'\u001b[0m\u001b[0;34m]\u001b[0m\u001b[0;34m\u001b[0m\u001b[0;34m\u001b[0m\u001b[0m\n\u001b[0m",
      "\u001b[0;31mKeyError\u001b[0m: 'key777'"
     ]
    }
   ],
   "source": [
    "d1['key777']"
   ]
  },
  {
   "cell_type": "code",
   "execution_count": null,
   "id": "c196aae1",
   "metadata": {},
   "outputs": [],
   "source": []
  }
 ],
 "metadata": {
  "kernelspec": {
   "display_name": "Python 3 (ipykernel)",
   "language": "python",
   "name": "python3"
  },
  "language_info": {
   "codemirror_mode": {
    "name": "ipython",
    "version": 3
   },
   "file_extension": ".py",
   "mimetype": "text/x-python",
   "name": "python",
   "nbconvert_exporter": "python",
   "pygments_lexer": "ipython3",
   "version": "3.9.7"
  }
 },
 "nbformat": 4,
 "nbformat_minor": 5
}
