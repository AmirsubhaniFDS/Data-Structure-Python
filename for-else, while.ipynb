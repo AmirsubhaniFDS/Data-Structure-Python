{
 "cells": [
  {
   "cell_type": "code",
   "execution_count": 1,
   "id": "66fd0e1d",
   "metadata": {},
   "outputs": [],
   "source": [
    "l = [\"name\", 'emailid', 'phoneno','address']"
   ]
  },
  {
   "cell_type": "code",
   "execution_count": 4,
   "id": "54ec9873",
   "metadata": {},
   "outputs": [
    {
     "name": "stdout",
     "output_type": "stream",
     "text": [
      "name\n",
      "emailid\n",
      "phoneno\n",
      "address\n"
     ]
    }
   ],
   "source": [
    "for i in l:\n",
    "    print(i)"
   ]
  },
  {
   "cell_type": "code",
   "execution_count": 5,
   "id": "597983af",
   "metadata": {},
   "outputs": [
    {
     "name": "stdout",
     "output_type": "stream",
     "text": [
      "A\n",
      "m\n",
      "i\n",
      "r\n",
      "S\n",
      "u\n",
      "b\n",
      "h\n",
      "a\n",
      "n\n",
      "i\n"
     ]
    }
   ],
   "source": [
    "s=\"AmirSubhani\"\n",
    "for i in s:\n",
    "    print(i)"
   ]
  },
  {
   "cell_type": "markdown",
   "id": "25982640",
   "metadata": {},
   "source": [
    "# For-Else"
   ]
  },
  {
   "cell_type": "code",
   "execution_count": 6,
   "id": "96e19ae6",
   "metadata": {},
   "outputs": [
    {
     "data": {
      "text/plain": [
       "['name', 'emailid', 'phoneno', 'address']"
      ]
     },
     "execution_count": 6,
     "metadata": {},
     "output_type": "execute_result"
    }
   ],
   "source": [
    "l"
   ]
  },
  {
   "cell_type": "code",
   "execution_count": 10,
   "id": "27c4db1a",
   "metadata": {},
   "outputs": [
    {
     "name": "stdout",
     "output_type": "stream",
     "text": [
      "name\n",
      "emailid\n",
      "phoneno\n",
      "address\n",
      "if for loop is going to complete itself then it will come to else\n"
     ]
    }
   ],
   "source": [
    "for i in l:\n",
    "    print(i)\n",
    "else:\n",
    "    print(\"if for loop is going to complete itself then it will come to else\")"
   ]
  },
  {
   "cell_type": "code",
   "execution_count": 11,
   "id": "d9154826",
   "metadata": {},
   "outputs": [
    {
     "data": {
      "text/plain": [
       "['name', 'emailid', 'phoneno', 'address']"
      ]
     },
     "execution_count": 11,
     "metadata": {},
     "output_type": "execute_result"
    }
   ],
   "source": [
    "l"
   ]
  },
  {
   "cell_type": "code",
   "execution_count": 16,
   "id": "4162c065",
   "metadata": {},
   "outputs": [
    {
     "name": "stdout",
     "output_type": "stream",
     "text": [
      "name\n"
     ]
    }
   ],
   "source": [
    "for i in l:\n",
    "    if i ==\"emailid\":\n",
    "        break\n",
    "    print(i)\n",
    "else:\n",
    "    print(\"check this statement\")"
   ]
  },
  {
   "cell_type": "markdown",
   "id": "a5c245a4",
   "metadata": {},
   "source": [
    "# While Loop"
   ]
  },
  {
   "cell_type": "code",
   "execution_count": 18,
   "id": "692d57ac",
   "metadata": {},
   "outputs": [
    {
     "name": "stdout",
     "output_type": "stream",
     "text": [
      "1\n",
      "2\n",
      "3\n",
      "4\n",
      "5\n"
     ]
    }
   ],
   "source": [
    "a=1\n",
    "while a < 6 :\n",
    "    print(a)\n",
    "    a= a +1"
   ]
  },
  {
   "cell_type": "code",
   "execution_count": 21,
   "id": "fbb678a7",
   "metadata": {},
   "outputs": [
    {
     "name": "stdout",
     "output_type": "stream",
     "text": [
      "1\n",
      "2\n",
      "3\n",
      "4\n"
     ]
    }
   ],
   "source": [
    "a = 1\n",
    "while a < 5:\n",
    "    print(a)\n",
    "    if a ==4:\n",
    "        break\n",
    "    a=a+1"
   ]
  },
  {
   "cell_type": "code",
   "execution_count": 24,
   "id": "b8c09d4c",
   "metadata": {},
   "outputs": [],
   "source": [
    "#infinite loop\n",
    "# a =1\n",
    "# while a < 5:\n",
    "#     print(a)\n",
    "#     if a == 3:\n",
    "#         continue\n",
    "#     a = a + 1\n"
   ]
  },
  {
   "cell_type": "code",
   "execution_count": null,
   "id": "6f0e1ca5",
   "metadata": {},
   "outputs": [],
   "source": [
    "#Pass\n",
    " while a < 5:"
   ]
  },
  {
   "cell_type": "code",
   "execution_count": 29,
   "id": "09c6621f",
   "metadata": {},
   "outputs": [
    {
     "ename": "KeyboardInterrupt",
     "evalue": "",
     "output_type": "error",
     "traceback": [
      "\u001b[0;31m---------------------------------------------------------------------------\u001b[0m",
      "\u001b[0;31mKeyboardInterrupt\u001b[0m                         Traceback (most recent call last)",
      "\u001b[0;32m/var/folders/df/flymxr5s059ctrpmw61n9zv40000gn/T/ipykernel_965/4160242667.py\u001b[0m in \u001b[0;36m<module>\u001b[0;34m\u001b[0m\n\u001b[0;32m----> 1\u001b[0;31m \u001b[0;32mwhile\u001b[0m \u001b[0ma\u001b[0m \u001b[0;34m<\u001b[0m \u001b[0;36m5\u001b[0m\u001b[0;34m:\u001b[0m\u001b[0;34m\u001b[0m\u001b[0;34m\u001b[0m\u001b[0m\n\u001b[0m\u001b[1;32m      2\u001b[0m     \u001b[0;32mpass\u001b[0m\u001b[0;34m\u001b[0m\u001b[0;34m\u001b[0m\u001b[0m\n",
      "\u001b[0;31mKeyboardInterrupt\u001b[0m: "
     ]
    }
   ],
   "source": [
    "while a < 5:\n",
    "    pass"
   ]
  },
  {
   "cell_type": "code",
   "execution_count": null,
   "id": "132175e4",
   "metadata": {},
   "outputs": [],
   "source": [
    "while a < 4:\n",
    "    break"
   ]
  },
  {
   "cell_type": "code",
   "execution_count": null,
   "id": "b5a108f0",
   "metadata": {},
   "outputs": [],
   "source": [
    "a = 1"
   ]
  },
  {
   "cell_type": "code",
   "execution_count": null,
   "id": "384be6a3",
   "metadata": {},
   "outputs": [],
   "source": [
    "while a < 4:\n",
    "    continue"
   ]
  },
  {
   "cell_type": "markdown",
   "id": "60fd5586",
   "metadata": {},
   "source": [
    "# Nested Loop"
   ]
  },
  {
   "cell_type": "code",
   "execution_count": 34,
   "id": "4d971122",
   "metadata": {},
   "outputs": [
    {
     "data": {
      "text/plain": [
       "[0, 1, 2, 3, 4, 5]"
      ]
     },
     "execution_count": 34,
     "metadata": {},
     "output_type": "execute_result"
    }
   ],
   "source": [
    "list(range(6))"
   ]
  },
  {
   "cell_type": "code",
   "execution_count": 35,
   "id": "7b3fab92",
   "metadata": {},
   "outputs": [
    {
     "data": {
      "text/plain": [
       "[0, 1, 2, 3, 4, 5, 6, 7, 8, 9, 10, 11, 12, 13, 14]"
      ]
     },
     "execution_count": 35,
     "metadata": {},
     "output_type": "execute_result"
    }
   ],
   "source": [
    "list(range(0,15))\n",
    "# excluding upper bound"
   ]
  },
  {
   "cell_type": "code",
   "execution_count": 37,
   "id": "2ddd2a4f",
   "metadata": {},
   "outputs": [
    {
     "data": {
      "text/plain": [
       "[0, 2, 4, 6, 8, 10, 12, 14]"
      ]
     },
     "execution_count": 37,
     "metadata": {},
     "output_type": "execute_result"
    }
   ],
   "source": [
    "list(range(0,15,2))\n",
    "#Jump"
   ]
  },
  {
   "cell_type": "code",
   "execution_count": 38,
   "id": "cbf3b0fa",
   "metadata": {},
   "outputs": [
    {
     "data": {
      "text/plain": [
       "[]"
      ]
     },
     "execution_count": 38,
     "metadata": {},
     "output_type": "execute_result"
    }
   ],
   "source": [
    "list(range(0,15,-1))"
   ]
  },
  {
   "cell_type": "code",
   "execution_count": 39,
   "id": "f75b8eff",
   "metadata": {},
   "outputs": [
    {
     "data": {
      "text/plain": [
       "[10, 9, 8, 7]"
      ]
     },
     "execution_count": 39,
     "metadata": {},
     "output_type": "execute_result"
    }
   ],
   "source": [
    "list(range(10,6,-1))"
   ]
  },
  {
   "cell_type": "code",
   "execution_count": 40,
   "id": "305568b9",
   "metadata": {},
   "outputs": [
    {
     "name": "stdout",
     "output_type": "stream",
     "text": [
      "0\n",
      "1\n",
      "2\n",
      "3\n",
      "4\n",
      "5\n",
      "6\n"
     ]
    }
   ],
   "source": [
    "for i in range(7):\n",
    "    print(i)"
   ]
  },
  {
   "cell_type": "code",
   "execution_count": 43,
   "id": "bcbcf36f",
   "metadata": {},
   "outputs": [
    {
     "name": "stdout",
     "output_type": "stream",
     "text": [
      "* \r\n",
      "* * \r\n",
      "* * * \r\n",
      "* * * * \r\n",
      "* * * * * \r\n"
     ]
    }
   ],
   "source": [
    "n = 5\n",
    "for i in range(0,n):\n",
    "    for j in range(0,i+1):\n",
    "        print(\"* \", end =\"\")\n",
    "    print(\"\\r\")"
   ]
  },
  {
   "cell_type": "code",
   "execution_count": 44,
   "id": "7f06ab68",
   "metadata": {},
   "outputs": [],
   "source": [
    "t=(3,4,4,5,6,7,7)"
   ]
  },
  {
   "cell_type": "code",
   "execution_count": 47,
   "id": "4469675e",
   "metadata": {},
   "outputs": [
    {
     "data": {
      "text/plain": [
       "[0, 1, 2, 3, 4, 5, 6]"
      ]
     },
     "execution_count": 47,
     "metadata": {},
     "output_type": "execute_result"
    }
   ],
   "source": [
    "list(range(len((t))))"
   ]
  },
  {
   "cell_type": "code",
   "execution_count": 48,
   "id": "1ebc6dd9",
   "metadata": {},
   "outputs": [
    {
     "data": {
      "text/plain": [
       "[6, 5, 4, 3, 2, 1, 0]"
      ]
     },
     "execution_count": 48,
     "metadata": {},
     "output_type": "execute_result"
    }
   ],
   "source": [
    "list(range(len(t)-1,-1,-1))"
   ]
  },
  {
   "cell_type": "code",
   "execution_count": 56,
   "id": "0b93503b",
   "metadata": {},
   "outputs": [
    {
     "name": "stdout",
     "output_type": "stream",
     "text": [
      "7\n",
      "7\n",
      "6\n",
      "5\n",
      "4\n",
      "4\n",
      "3\n"
     ]
    }
   ],
   "source": [
    "for i in range(len(t)-1,-1,-1):\n",
    "    print(t[i])"
   ]
  },
  {
   "cell_type": "code",
   "execution_count": 57,
   "id": "911b6dd8",
   "metadata": {},
   "outputs": [],
   "source": [
    "d={\"a\":\"bhbhgs\",\"b\":\"sgwdgw\",\"c\":[1,2,4,5,6],\"d\":(9,8,6,6,5,3),\"e\":\"xjshgye\"}"
   ]
  },
  {
   "cell_type": "code",
   "execution_count": 60,
   "id": "ba7a0cc9",
   "metadata": {},
   "outputs": [
    {
     "name": "stdout",
     "output_type": "stream",
     "text": [
      "a bhbhgs\n",
      "b sgwdgw\n",
      "c [1, 2, 4, 5, 6]\n",
      "d (9, 8, 6, 6, 5, 3)\n",
      "e xjshgye\n"
     ]
    }
   ],
   "source": [
    "for i in d:\n",
    "    print(i,d[i])"
   ]
  },
  {
   "cell_type": "code",
   "execution_count": 61,
   "id": "2bdadb3d",
   "metadata": {},
   "outputs": [],
   "source": [
    "s={4,5,6,7,8,53,8954332,34566}"
   ]
  },
  {
   "cell_type": "code",
   "execution_count": 64,
   "id": "c113bb1b",
   "metadata": {},
   "outputs": [
    {
     "name": "stdout",
     "output_type": "stream",
     "text": [
      "4\n",
      "5\n",
      "6\n",
      "7\n",
      "8\n",
      "34566\n",
      "53\n",
      "8954332\n"
     ]
    }
   ],
   "source": [
    "for i in s:\n",
    "    print(i)"
   ]
  },
  {
   "cell_type": "code",
   "execution_count": null,
   "id": "6da32b11",
   "metadata": {},
   "outputs": [],
   "source": []
  }
 ],
 "metadata": {
  "kernelspec": {
   "display_name": "Python 3 (ipykernel)",
   "language": "python",
   "name": "python3"
  },
  "language_info": {
   "codemirror_mode": {
    "name": "ipython",
    "version": 3
   },
   "file_extension": ".py",
   "mimetype": "text/x-python",
   "name": "python",
   "nbconvert_exporter": "python",
   "pygments_lexer": "ipython3",
   "version": "3.9.7"
  }
 },
 "nbformat": 4,
 "nbformat_minor": 5
}
